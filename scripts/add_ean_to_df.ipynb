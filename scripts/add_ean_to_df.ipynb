{
 "cells": [
  {
   "cell_type": "code",
   "execution_count": 39,
   "id": "1759ef49-6bc1-4a69-97a6-346ebbac3e1c",
   "metadata": {},
   "outputs": [],
   "source": [
    "import pandas as pd\n",
    "import pickle\n",
    "import numpy as np"
   ]
  },
  {
   "cell_type": "code",
   "execution_count": 81,
   "id": "a970bb83-cc8d-4333-95ac-0f8db254085a",
   "metadata": {},
   "outputs": [],
   "source": [
    "df = pickle.load(open('../dataframe/model_df.bin','rb'))"
   ]
  },
  {
   "cell_type": "code",
   "execution_count": 82,
   "id": "1c695c6c-2cb9-4352-a7f6-e7ed5a8f1de7",
   "metadata": {},
   "outputs": [],
   "source": [
    "alko_csv = pd.read_csv(open('../data/alkon-hinnasto-tekstitiedostona.csv', 'r'))"
   ]
  },
  {
   "cell_type": "code",
   "execution_count": 83,
   "id": "e694d04a-390c-43d7-8e8e-adcd7ebbefad",
   "metadata": {},
   "outputs": [],
   "source": [
    "df = df.merge(alko_csv[['Numero','EAN']], left_on='Numero', right_on='Numero')"
   ]
  },
  {
   "cell_type": "code",
   "execution_count": 87,
   "id": "2fd8f2bd-42a9-4b75-857b-48df158ff857",
   "metadata": {},
   "outputs": [],
   "source": [
    "pickle.dump(df, open('../dataframe/model_df_v2.bin', 'wb'))"
   ]
  },
  {
   "cell_type": "code",
   "execution_count": null,
   "id": "1e05c8dc-772a-48a5-927f-55655bc30c50",
   "metadata": {},
   "outputs": [],
   "source": []
  }
 ],
 "metadata": {
  "kernelspec": {
   "display_name": "Python 3 (ipykernel)",
   "language": "python",
   "name": "python3"
  },
  "language_info": {
   "codemirror_mode": {
    "name": "ipython",
    "version": 3
   },
   "file_extension": ".py",
   "mimetype": "text/x-python",
   "name": "python",
   "nbconvert_exporter": "python",
   "pygments_lexer": "ipython3",
   "version": "3.8.12"
  }
 },
 "nbformat": 4,
 "nbformat_minor": 5
}

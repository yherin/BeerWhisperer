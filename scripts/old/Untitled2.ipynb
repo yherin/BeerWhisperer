{
 "cells": [
  {
   "cell_type": "code",
   "execution_count": 44,
   "id": "21a0587c-72a3-448d-8119-335243f434ca",
   "metadata": {},
   "outputs": [],
   "source": [
    "from __future__ import annotations\n",
    "from typing import Tuple\n",
    "import pandas as pd\n",
    "import pickle\n",
    "import numpy as np\n",
    "from scipy import spatial\n",
    "import sklearn as skl\n",
    "import os\n",
    "import json\n",
    "import fasttext\n",
    "import fasttext.util\n",
    "import string\n",
    "import math\n",
    "import seaborn as sns"
   ]
  },
  {
   "cell_type": "code",
   "execution_count": 56,
   "id": "8a060ac5-aad1-413e-80bd-03a2399dcf57",
   "metadata": {},
   "outputs": [],
   "source": [
    "from sklearn.cluster import AffinityPropagation \n",
    "from sklearn.cluster import KMeans"
   ]
  },
  {
   "cell_type": "code",
   "execution_count": 6,
   "id": "a15eeab8-b789-4cfa-abd6-ec8e404c6c00",
   "metadata": {},
   "outputs": [],
   "source": [
    "v1 = pickle.load(open('../data/word_vec_binary.bin', 'br'))\n",
    "v2 = pickle.load(open('../data/country_vect_dict.bin', 'br'))\n",
    "v3 = pickle.load(open('../data/food_tags_vect_dict.bin', 'br'))"
   ]
  },
  {
   "cell_type": "code",
   "execution_count": 61,
   "id": "cc21cfc5-3503-4749-9108-1a0bcefa9161",
   "metadata": {},
   "outputs": [],
   "source": [
    "apClass = AffinityPropagation(max_iter=1000,random_state=0)\n",
    "kClass = KMeans(max_iter=1000, random_state=0, n_clusters=4)"
   ]
  },
  {
   "cell_type": "code",
   "execution_count": 62,
   "id": "a3ab67df-d6e5-41c1-84ef-5e5cdd46e167",
   "metadata": {},
   "outputs": [],
   "source": [
    "df = pd.DataFrame.from_dict(v1, orient='index')"
   ]
  },
  {
   "cell_type": "code",
   "execution_count": 63,
   "id": "183c5d6a-e8e2-44f1-885d-76f4bcac5bf0",
   "metadata": {},
   "outputs": [],
   "source": [
    "apClass.labels_ = df.index"
   ]
  },
  {
   "cell_type": "code",
   "execution_count": 64,
   "id": "9f7b5622-72f1-4f2d-9a05-59b09c907e81",
   "metadata": {},
   "outputs": [],
   "source": [
    "vects = np.array(df.to_numpy())"
   ]
  },
  {
   "cell_type": "code",
   "execution_count": 65,
   "id": "5cb35ef0-2589-4751-86ee-1a2cb723846f",
   "metadata": {},
   "outputs": [],
   "source": [
    "modelAf = apClass.fit(vects)\n",
    "modelK = kClass.fit(vects)"
   ]
  },
  {
   "cell_type": "code",
   "execution_count": 66,
   "id": "0b0c50a7-3101-43ea-861c-24ef5b5fe652",
   "metadata": {},
   "outputs": [
    {
     "data": {
      "text/plain": [
       "array([[-1.37950878,  0.43500578, -1.14144024, ...,  2.28503532,\n",
       "         1.53601639,  0.52501636],\n",
       "       [-1.05204174,  0.08113313, -0.57740587, ...,  1.68440623,\n",
       "         0.90041645,  0.49912414],\n",
       "       [-1.76636703,  0.03357431, -0.89117809, ...,  2.54565447,\n",
       "         1.32004133,  0.72510326],\n",
       "       [-1.03943714,  0.13236428, -1.0497449 , ...,  1.94355038,\n",
       "         1.24022276,  0.41924492]])"
      ]
     },
     "execution_count": 66,
     "metadata": {},
     "output_type": "execute_result"
    }
   ],
   "source": [
    "modelK.cluster_centers_"
   ]
  },
  {
   "cell_type": "code",
   "execution_count": 67,
   "id": "98ae1051-b9bf-4215-b717-64b7cba7a0be",
   "metadata": {},
   "outputs": [
    {
     "data": {
      "text/plain": [
       "array([3, 0, 2, ..., 1, 1, 3], dtype=int32)"
      ]
     },
     "execution_count": 67,
     "metadata": {},
     "output_type": "execute_result"
    }
   ],
   "source": [
    "modelK.labels_"
   ]
  },
  {
   "cell_type": "code",
   "execution_count": 71,
   "id": "14b7e117-79fd-4d61-825f-fad5aba95d27",
   "metadata": {},
   "outputs": [
    {
     "data": {
      "text/plain": [
       "array([3], dtype=int32)"
      ]
     },
     "execution_count": 71,
     "metadata": {},
     "output_type": "execute_result"
    }
   ],
   "source": [
    "modelK.predict(vects[0].reshape(-1,300))"
   ]
  },
  {
   "cell_type": "code",
   "execution_count": null,
   "id": "8370b23b-1d30-47b1-9bd3-4b1fb7f4243c",
   "metadata": {},
   "outputs": [],
   "source": []
  }
 ],
 "metadata": {
  "kernelspec": {
   "display_name": "Python 3",
   "language": "python",
   "name": "python3"
  },
  "language_info": {
   "codemirror_mode": {
    "name": "ipython",
    "version": 3
   },
   "file_extension": ".py",
   "mimetype": "text/x-python",
   "name": "python",
   "nbconvert_exporter": "python",
   "pygments_lexer": "ipython3",
   "version": "3.8.8"
  }
 },
 "nbformat": 4,
 "nbformat_minor": 5
}

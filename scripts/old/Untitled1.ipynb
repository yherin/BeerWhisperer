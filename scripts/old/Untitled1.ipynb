{
 "cells": [
  {
   "cell_type": "code",
   "execution_count": 1,
   "id": "221dbdc9-dc82-4908-b14c-d36e98ba3f41",
   "metadata": {},
   "outputs": [],
   "source": [
    "from __future__ import annotations\n",
    "from typing import Tuple\n",
    "import pandas as pd\n",
    "import pickle\n",
    "import numpy as np\n",
    "from scipy import spatial\n",
    "import sklearn as skl\n",
    "import os\n",
    "import json\n",
    "import fasttext\n",
    "import fasttext.util\n",
    "import string\n",
    "import math\n",
    "from nltk.corpus import stopwords\n",
    "import nltk\n",
    "from translate import Translator\n",
    "translator= Translator(to_lang=\"en\", from_lang=\"fi\")\n",
    "stops = set(stopwords.words('english'))\n",
    "stops.add('notes')\n",
    "stops.add('note')\n",
    "stops.add('hint')\n",
    "stops.add('hints')"
   ]
  },
  {
   "cell_type": "code",
   "execution_count": 2,
   "id": "79b77ccc-75b7-4a42-9b0c-17eb473f00d2",
   "metadata": {},
   "outputs": [
    {
     "name": "stderr",
     "output_type": "stream",
     "text": [
      "Warning : `load_model` does not return WordVectorModel or SupervisedModel any more, but a `FastText` object which is very similar.\n"
     ]
    }
   ],
   "source": [
    "wmd = fasttext.load_model('../glove/wiki.en/wiki.en.bin')"
   ]
  },
  {
   "cell_type": "code",
   "execution_count": 3,
   "id": "59fbb212-36f9-4185-9203-509544f8af61",
   "metadata": {},
   "outputs": [],
   "source": [
    "tariff = '../data/alkon-hinnasto-tekstitiedostona.csv'\n",
    "tf = pd.read_csv(tariff, skiprows=2)"
   ]
  },
  {
   "cell_type": "code",
   "execution_count": 4,
   "id": "428b4c4c-60f8-4ccc-b0ce-f5da57d8406d",
   "metadata": {},
   "outputs": [],
   "source": [
    "countries = list(tf['Valmistusmaa'].unique())"
   ]
  },
  {
   "cell_type": "code",
   "execution_count": 11,
   "id": "03fca993-36bd-4752-8a9c-c111e58c35ae",
   "metadata": {},
   "outputs": [],
   "source": [
    "en_countries = sorted(['Argentina', 'Australia', 'Bolivia', 'Bulgaria', 'Chile', 'England', 'Spain', 'South Africa', 'European Union', 'Georgia', 'India', 'Israel', 'Italy', 'Austria', 'Canada', 'China', 'Greece', 'Croatia', 'Lebanon', 'Luxembourg', 'Mexico', 'Moldova', 'Montenegro', 'Other country of origin', 'Peru', 'Portugal', 'France', 'Romania', 'Germany', 'Serbia', 'Slovakia', 'Slovenia', 'Switzerland', 'Czech Republic', 'Turkey', 'Hungary', 'Uruguay', 'New Zealand', 'Russia', 'United States', 'Japan', 'Cyprus', 'Northern Macedonia', 'Finland', 'Country of origin varies', 'Bahamas', 'Barbados', 'Bermuda', 'Dominican Republic', 'Guatemala', 'Guyana', 'Netherlands', 'Jamaica', 'Cuba', 'Lithuania', 'Martinique', 'Mauritius', 'Nicaragua', 'Panama', 'Puerto Rico', 'Scotland', 'Denmark', 'Trinidad and Tobago', 'Venezuela', 'Estonia', 'Belgium', 'Ireland', 'Norway', 'Swedish', 'Iceland', 'Latvia', 'Poland', 'Thailand', 'Vietnamese', 'Wales', 'Azerbaijan', 'Brazil', 'South Korea', 'Ukraine'])"
   ]
  },
  {
   "cell_type": "code",
   "execution_count": 12,
   "id": "1ad4daee-a9c2-4c05-afd5-77d38df52177",
   "metadata": {},
   "outputs": [
    {
     "name": "stdout",
     "output_type": "stream",
     "text": [
      "Argentina\n",
      "Australia\n",
      "Austria\n",
      "Azerbaijan\n",
      "Bahamas\n",
      "Barbados\n",
      "Belgium\n",
      "Bermuda\n",
      "Bolivia\n",
      "Brazil\n",
      "Bulgaria\n",
      "Canada\n",
      "Chile\n",
      "China\n",
      "Country of origin varies\n",
      "Croatia\n",
      "Cuba\n",
      "Cyprus\n",
      "Czech Republic\n",
      "Denmark\n",
      "Dominican Republic\n",
      "England\n",
      "Estonia\n",
      "European Union\n",
      "Finland\n",
      "France\n",
      "Georgia\n",
      "Germany\n",
      "Greece\n",
      "Guatemala\n",
      "Guyana\n",
      "Hungary\n",
      "Iceland\n",
      "India\n",
      "Ireland\n",
      "Israel\n",
      "Italy\n",
      "Jamaica\n",
      "Japan\n",
      "Latvia\n",
      "Lebanon\n",
      "Lithuania\n",
      "Luxembourg\n",
      "Martinique\n",
      "Mauritius\n",
      "Mexico\n",
      "Moldova\n",
      "Montenegro\n",
      "Netherlands\n",
      "New Zealand\n",
      "Nicaragua\n",
      "Northern Macedonia\n",
      "Norway\n",
      "Other country of origin\n",
      "Panama\n",
      "Peru\n",
      "Poland\n",
      "Portugal\n",
      "Puerto Rico\n",
      "Romania\n",
      "Russia\n",
      "Scotland\n",
      "Serbia\n",
      "Slovakia\n",
      "Slovenia\n",
      "South Africa\n",
      "South Korea\n",
      "Spain\n",
      "Swedish\n",
      "Switzerland\n",
      "Thailand\n",
      "Trinidad and Tobago\n",
      "Turkey\n",
      "Ukraine\n",
      "United States\n",
      "Uruguay\n",
      "Venezuela\n",
      "Vietnamese\n",
      "Wales\n"
     ]
    }
   ],
   "source": [
    "country_vect_dict = {}\n",
    "for e in en_countries:\n",
    "    print(e)\n",
    "    country_vect_dict[e.lower()] = wmd.get_word_vector(e.lower())\n",
    "pickle.dump(country_vect_dict, open('../data/country_vect_dict.bin', 'bw'))"
   ]
  },
  {
   "cell_type": "code",
   "execution_count": 13,
   "id": "67a3a21c-b4ae-43b4-99a6-6c2185cf0dc9",
   "metadata": {},
   "outputs": [],
   "source": [
    "food_tags_vect = {}\n",
    "foodTastes = json.load(open('../data/food_dict.json', 'r'))\n",
    "#for each beer,\n",
    "for f in foodTastes.keys():\n",
    "    v = np.zeros(300)\n",
    "    for g in f[0].lower().split():\n",
    "        v = np.add(v, wmd.get_word_vector(g))\n",
    "    food_tags_vect[f]=v\n",
    "pickle.dump(food_tags_vect, open('../data/food_tags_vect_dict.bin', 'bw'))\n",
    "    \n",
    "    "
   ]
  },
  {
   "cell_type": "code",
   "execution_count": null,
   "id": "335ee77c-75d0-4f88-95e8-1fbdda10a824",
   "metadata": {},
   "outputs": [],
   "source": []
  }
 ],
 "metadata": {
  "kernelspec": {
   "display_name": "Python 3",
   "language": "python",
   "name": "python3"
  },
  "language_info": {
   "codemirror_mode": {
    "name": "ipython",
    "version": 3
   },
   "file_extension": ".py",
   "mimetype": "text/x-python",
   "name": "python",
   "nbconvert_exporter": "python",
   "pygments_lexer": "ipython3",
   "version": "3.8.8"
  }
 },
 "nbformat": 4,
 "nbformat_minor": 5
}

{
 "cells": [
  {
   "cell_type": "code",
   "execution_count": 12,
   "id": "8c690389",
   "metadata": {},
   "outputs": [],
   "source": [
    "import json\n",
    "import pickle"
   ]
  },
  {
   "cell_type": "code",
   "execution_count": 17,
   "id": "47edce5e",
   "metadata": {},
   "outputs": [],
   "source": [
    "foods = {\n",
    "        'Miedot_makkarat': (  'mild sausages','miedot makkarat'), \n",
    "        'Lammas': (  'lamb','lammas'), \n",
    "        'Suklaaherkut': ( 'chocolate deserts' ,'suklaaherkut'), \n",
    "        'Riista': (  'game','riista'), \n",
    "        'Nauta': ( 'beef' ,'nauta'), \n",
    "        'Nautiskelujuoma': ( 'meditation beverage' ,'nautiskelujuoma'), \n",
    "        'Salaatit_kasvisruoka': ( 'salads, vegeratian foods' ,'salaatit, kasvisruoka'), \n",
    "        'Rasvainen_kala': ( 'fatty fish' ,'rasvainen kala'), \n",
    "        'Vaharasvainen_kala': (  'lean fish','vähärasvainen kala'), \n",
    "        'Simpukat_ja_osterit': ( 'clams, mussels, scallops and oysters' ,'simpukat ja osterit'), \n",
    "        'Sienet': ( 'mushrooms' ,'sienet'), \n",
    "        'Makea_jalkiruoka': ( 'sweet desserts' ,'makea jälkiruoka'), \n",
    "        'Pasta_ja_pizza': ( 'pizza and pasta' ,'pasta ja pizza'), \n",
    "        'Voimakkaat_juustot': ( 'strong cheeses' ,'voimakkaat juustot'), \n",
    "        'Tapas_ja_antipasti': ( 'tapas and antipasti' ,'tapas ja antipasti'), \n",
    "        'Aperitiivi': ( 'aperitif' ,'aperitiivi'), \n",
    "        'Pikkusuolaiset': (  'savoury snacks','pikkusuolaiset'), \n",
    "        'Miedot_juustot': (  'mild cheese','miedot juustot'), \n",
    "        'Grilliruoka': (  'grilled food','grilliruoka'), \n",
    "        'Sushi': (  'sushi','sushi'), \n",
    "        'Tulinen_ruoka': ( 'hot food' ,'tulinen ruoka'), \n",
    "        'Seurustelujuoma': (  'party wine','seurustelujuoma'), \n",
    "        'Ayriaiset': ( 'seafood' ,'äyriaiset'), \n",
    "        'Noutopoyta': ( 'buffet' ,'noutopöytä'), \n",
    "        'Mausteiset_ja_lihaisat_makkarat': ( 'spicy and meaty sausages' ,'mausteiset ja lihaisat makkarat'), \n",
    "        'Maksa': ( 'liver' ,'maksa'), \n",
    "        'Riistalinnut': ( 'game birds' ,'Riistalinnut'), \n",
    "        'Blinit': ( 'blini' ,'blinit'), \n",
    "        'Porsas': (  'pork','porsas'), \n",
    "        'Kana_kalkkuna': ( 'chicken, turkey' ,'kana, kalkkuna'), \n",
    "        'Keitot': ( 'soups' ,'keitöt'), \n",
    "        'Marjat_ja_hedelmat': ( 'berries and fruits' ,'marjat ja hedelmät'), \n",
    "        'Itamainen_ruoka': ( 'oriental food' ,'itämainen ruoka'), \n",
    "        'Pataruoka': ( 'casseroles' ,'pataruoka')\n",
    "         }"
   ]
  },
  {
   "cell_type": "code",
   "execution_count": 18,
   "id": "16b2072b-9769-463f-9e21-3f9e4313aa01",
   "metadata": {},
   "outputs": [],
   "source": [
    "with open('../data/food_dict.json', 'w') as fp:\n",
    "    json.dump(foods, fp, indent=4)"
   ]
  },
  {
   "cell_type": "code",
   "execution_count": 19,
   "id": "d122b282-d18c-49e4-971f-8813e3be2718",
   "metadata": {},
   "outputs": [
    {
     "name": "stdout",
     "output_type": "stream",
     "text": [
      "['mild sausages', 'miedot makkarat']\n",
      "['lamb', 'lammas']\n",
      "['chocolate deserts', 'suklaaherkut']\n",
      "['game', 'riista']\n",
      "['beef', 'nauta']\n",
      "['meditation beverage', 'nautiskelujuoma']\n",
      "['salads, vegeratian foods', 'salaatit, kasvisruoka']\n",
      "['fatty fish', 'rasvainen kala']\n",
      "['lean fish', 'vähärasvainen kala']\n",
      "['clams, mussels, scallops and oysters', 'simpukat ja osterit']\n",
      "['mushrooms', 'sienet']\n",
      "['sweet desserts', 'makea jälkiruoka']\n",
      "['pizza and pasta', 'pasta ja pizza']\n",
      "['strong cheeses', 'voimakkaat juustot']\n",
      "['tapas and antipasti', 'tapas ja antipasti']\n",
      "['aperitif', 'aperitiivi']\n",
      "['savoury snacks', 'pikkusuolaiset']\n",
      "['mild cheese', 'miedot juustot']\n",
      "['grilled food', 'grilliruoka']\n",
      "['sushi', 'sushi']\n",
      "['hot food', 'tulinen ruoka']\n",
      "['party wine', 'seurustelujuoma']\n",
      "['seafood', 'äyriaiset']\n",
      "['buffet', 'noutopöytä']\n",
      "['spicy and meaty sausages', 'mausteiset ja lihaisat makkarat']\n",
      "['liver', 'maksa']\n",
      "['game birds', 'Riistalinnut']\n",
      "['blini', 'blinit']\n",
      "['pork', 'porsas']\n",
      "['chicken, turkey', 'kana, kalkkuna']\n",
      "['soups', 'keitöt']\n",
      "['berries and fruits', 'marjat ja hedelmät']\n",
      "['oriental food', 'itämainen ruoka']\n",
      "['casseroles', 'pataruoka']\n"
     ]
    }
   ],
   "source": [
    "with open('../data/food_dict.json', 'r') as fp:\n",
    "    foodsl = json.load(fp)\n",
    "    for f in foodsl:\n",
    "        print(foodsl[f])"
   ]
  },
  {
   "cell_type": "code",
   "execution_count": null,
   "id": "74936527-2884-4a8a-8ab6-837e28b4a657",
   "metadata": {},
   "outputs": [],
   "source": []
  }
 ],
 "metadata": {
  "kernelspec": {
   "display_name": "Python 3 (ipykernel)",
   "language": "python",
   "name": "python3"
  },
  "language_info": {
   "codemirror_mode": {
    "name": "ipython",
    "version": 3
   },
   "file_extension": ".py",
   "mimetype": "text/x-python",
   "name": "python",
   "nbconvert_exporter": "python",
   "pygments_lexer": "ipython3",
   "version": "3.9.6"
  }
 },
 "nbformat": 4,
 "nbformat_minor": 5
}

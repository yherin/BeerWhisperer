{
 "cells": [
  {
   "cell_type": "code",
   "execution_count": 2,
   "id": "03a1163f",
   "metadata": {},
   "outputs": [],
   "source": [
    "import pandas as pd\n",
    "import re\n",
    "from bs4 import BeautifulSoup\n",
    "import json\n",
    "\n",
    "products = pd.read_csv('../data/beers.csv', dtype={'Numero': object} )\n",
    "beers = {}\n",
    "for p in products['Numero']:\n",
    "    with open(f'../data_raw/html/{p}.html', encoding=\"utf-8\") as fp:\n",
    "        try:\n",
    "            soup = BeautifulSoup(fp, 'html.parser')\n",
    "            try:\n",
    "                taste_dec =[taste.text for taste in  soup.find_all(\"div\", attrs={\"class\": \"taste-description\"})][0]\n",
    "            except IndexError as e:\n",
    "                taste_dec = str(e)\n",
    "            foods = soup.find_all(\"div\", re.compile(\"foodSymbol_\"))\n",
    "            try:\n",
    "                food_tags = {food['class'][2].split('_',1)[1:][0] for food in foods}\n",
    "            except IndexError as e:\n",
    "                food_tags = {str(e)}\n",
    "            #print(food_tags)\n",
    "            #print(taste_dec)\n",
    "            #print(soup.title.string)\n",
    "            #print(soup.find_all(\"div\", attrs={\"class\": \"html-print\"}))\n",
    "            #print(soup.find_all(\"div\", attrs={\"class\":\"pdp main clearfix black js-accessibility-main-content\"}))\n",
    "            beerdata = {}\n",
    "            beerdata['foods'] = list(food_tags)\n",
    "            beerdata['taste_desc'] = taste_dec\n",
    "\n",
    "            beers[p] = beerdata\n",
    "        except UnicodeDecodeError:\n",
    "            print(\"error\")\n",
    "            pass\n",
    "        #print(taste_dec[0], type(taste_dec[0]), sep='\\n')\n",
    "        #print(str(foods))\n",
    "with open(f'../data/beer_foods_tastes.json', 'w') as fo:\n",
    "    json.dump(beers, fo,  indent=4)"
   ]
  },
  {
   "cell_type": "code",
   "execution_count": null,
   "id": "b54a0c95",
   "metadata": {},
   "outputs": [],
   "source": []
  },
  {
   "cell_type": "code",
   "execution_count": null,
   "id": "64700918",
   "metadata": {},
   "outputs": [],
   "source": []
  }
 ],
 "metadata": {
  "kernelspec": {
   "display_name": "Python 3 (ipykernel)",
   "language": "python",
   "name": "python3"
  },
  "language_info": {
   "codemirror_mode": {
    "name": "ipython",
    "version": 3
   },
   "file_extension": ".py",
   "mimetype": "text/x-python",
   "name": "python",
   "nbconvert_exporter": "python",
   "pygments_lexer": "ipython3",
   "version": "3.9.6"
  }
 },
 "nbformat": 4,
 "nbformat_minor": 5
}

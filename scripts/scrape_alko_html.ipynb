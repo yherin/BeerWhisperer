{
 "cells": [
  {
   "cell_type": "code",
   "execution_count": 1,
   "id": "80d9cbc5",
   "metadata": {},
   "outputs": [],
   "source": [
    "import requests\n",
    "import html\n",
    "import time\n",
    "import os\n",
    "import pandas as pd"
   ]
  },
  {
   "cell_type": "code",
   "execution_count": 2,
   "id": "3d061d19",
   "metadata": {},
   "outputs": [],
   "source": [
    "products = pd.read_csv('../data/beers.csv', dtype={'Numero': object} )"
   ]
  },
  {
   "cell_type": "code",
   "execution_count": 3,
   "id": "4b590da1",
   "metadata": {},
   "outputs": [],
   "source": [
    "products = products.drop(columns='Unnamed: 0')"
   ]
  },
  {
   "cell_type": "code",
   "execution_count": 4,
   "id": "41d5e990",
   "metadata": {},
   "outputs": [],
   "source": [
    "baseUrl = 'https://www.alko.fi/en/products/'"
   ]
  },
  {
   "cell_type": "code",
   "execution_count": 6,
   "id": "d3ef5849",
   "metadata": {},
   "outputs": [],
   "source": [
    "try:\n",
    "    os.mkdir('../data_raw/html')\n",
    "except FileExistsError:\n",
    "    pass\n"
   ]
  },
  {
   "cell_type": "code",
   "execution_count": 8,
   "id": "c47e4874",
   "metadata": {},
   "outputs": [
    {
     "name": "stdout",
     "output_type": "stream",
     "text": [
      "Fetching data for 009686\n",
      "Fetching data for 000166\n",
      "Fetching data for 009115\n",
      "Fetching data for 009376\n",
      "Fetching data for 009716\n",
      "Fetching data for 009677\n",
      "Fetching data for 009475\n",
      "Fetching data for 009213\n",
      "Fetching data for 000071\n",
      "Fetching data for 009743\n",
      "Fetching data for 009772\n",
      "Fetching data for 009369\n"
     ]
    }
   ],
   "source": [
    "for p in products['Numero']:\n",
    "    if not os.path.exists(f'../data_raw/html/{p}.html'):\n",
    "        print(f'Fetching data for {p}')\n",
    "        target = baseUrl + str(p)\n",
    "        res = requests.get(target)\n",
    "        payload = html.unescape(res.text)\n",
    "        f = open(f'../data_raw/html/{p}.html', 'w')\n",
    "        for line in payload:\n",
    "            f.write(line)\n",
    "        f.close()\n",
    "        time.sleep(5)\n"
   ]
  },
  {
   "cell_type": "code",
   "execution_count": null,
   "id": "b46ba3b3",
   "metadata": {},
   "outputs": [],
   "source": []
  }
 ],
 "metadata": {
  "kernelspec": {
   "display_name": "Python 3 (ipykernel)",
   "language": "python",
   "name": "python3"
  },
  "language_info": {
   "codemirror_mode": {
    "name": "ipython",
    "version": 3
   },
   "file_extension": ".py",
   "mimetype": "text/x-python",
   "name": "python",
   "nbconvert_exporter": "python",
   "pygments_lexer": "ipython3",
   "version": "3.9.6"
  }
 },
 "nbformat": 4,
 "nbformat_minor": 5
}

{
 "cells": [
  {
   "cell_type": "code",
   "execution_count": 90,
   "id": "fe7e715a-9464-464c-98ed-58a0a5998dfb",
   "metadata": {},
   "outputs": [],
   "source": [
    "from __future__ import annotations\n",
    "from typing import Tuple\n",
    "import pandas as pd\n",
    "import pickle\n",
    "import numpy as np\n",
    "from scipy import spatial\n",
    "import sklearn as skl\n",
    "import os\n",
    "import json\n",
    "import fasttext\n",
    "import fasttext.util\n",
    "import string\n",
    "import math\n",
    "from nltk.corpus import stopwords\n",
    "import nltk\n",
    "stops = set(stopwords.words('english'))\n",
    "stops.add('notes')\n",
    "stops.add('note')\n",
    "stops.add('hint')\n",
    "stops.add('hints')"
   ]
  },
  {
   "cell_type": "code",
   "execution_count": 6,
   "id": "b9640cb6-890a-4a26-bd84-212e341abd7b",
   "metadata": {},
   "outputs": [
    {
     "name": "stderr",
     "output_type": "stream",
     "text": [
      "Warning : `load_model` does not return WordVectorModel or SupervisedModel any more, but a `FastText` object which is very similar.\n"
     ]
    }
   ],
   "source": [
    "wmd = fasttext.load_model('../glove/wiki.en/wiki.en.bin')"
   ]
  },
  {
   "cell_type": "code",
   "execution_count": 7,
   "id": "a3b132eb-17dc-4dfe-b048-8d7982b91c78",
   "metadata": {},
   "outputs": [
    {
     "data": {
      "text/plain": [
       "<fasttext.FastText._FastText at 0x7f3b2f358c40>"
      ]
     },
     "execution_count": 7,
     "metadata": {},
     "output_type": "execute_result"
    }
   ],
   "source": [
    "fasttext.util.reduce_model(wmd, 100)"
   ]
  },
  {
   "cell_type": "code",
   "execution_count": 52,
   "id": "b2297ac6-ac56-45fd-a51a-521e08eee2f6",
   "metadata": {},
   "outputs": [
    {
     "name": "stdout",
     "output_type": "stream",
     "text": [
      "1156\n"
     ]
    }
   ],
   "source": [
    "beers = json.load(open('../data/beer_foods_tastes.json','r'))\n",
    "beer_taste_vectors = {}\n",
    "for b in beers.keys():\n",
    "    desc = beers[b]['taste_desc']\n",
    "    beer_taste_vectors[b] = np.array([wmd.get_word_vector(d) for d in desc.split()][0]).flatten()\n",
    "print(len(beer_taste_vectors))\n",
    "vAppearance = wmd.get_word_vector('appearance')\n",
    "vColor = wmd.get_word_vector('color')\n",
    "vTaste = wmd.get_word_vector('taste')\n",
    "vAroma = wmd.get_word_vector('aroma')\n",
    "vMouthFeel = wmd.get_word_vector('mouthfeel')\n",
    "vTexture = wmd.get_word_vector('texture')"
   ]
  },
  {
   "cell_type": "code",
   "execution_count": 58,
   "id": "5b675e63-d5d3-4a4e-9577-ac6870373b52",
   "metadata": {},
   "outputs": [],
   "source": [
    "def identify_token(token: str) -> str:\n",
    "        label = measure_attributes(wmd.get_word_vector(token))\n",
    "        if label is not None:\n",
    "            return label\n",
    "        else:\n",
    "            raise ValueError(f'Labelling fail for {token} with label {label}')\n",
    "    \n",
    "def measure_attributes(v1: np.ndarray) -> tuple:\n",
    "    scores = {}\n",
    "    scores.clear()\n",
    "    scores['appearance'] = distance(v1, vAppearance)\n",
    "    scores['color'] = distance(v1, vColor)\n",
    "    scores['taste'] = distance(v1, vTaste)\n",
    "    scores['aroma'] = distance(v1, vAroma)\n",
    "    scores['mouthfeel'] = distance(v1, vMouthFeel)\n",
    "    scores['texture']  = distance(v1, vTexture)\n",
    "    print(scores)\n",
    "    return max(scores, key=scores.get)\n",
    "    \n",
    "\n",
    "def distance(v1: np.ndarray, v2: np.ndarray) -> float: \n",
    "    return (1 - spatial.distance.cosine(v1, v2)) "
   ]
  },
  {
   "cell_type": "code",
   "execution_count": 56,
   "id": "ebedaa70-2f79-4a23-b852-2fbf73181b8c",
   "metadata": {},
   "outputs": [],
   "source": [
    "def nearest_beer(beer_id: str):\n",
    "    ranking = {}\n",
    "    errors = 0\n",
    "    success = 0\n",
    "    groundVect = beer_taste_vectors[beer_id]\n",
    "    for b in beer_taste_vectors.keys():\n",
    "        try:\n",
    "            compareVect = beer_taste_vectors[b]\n",
    "            #print(compareVect.shape, groundVect.shape)\n",
    "            ranking[b] = math.sqrt((1 - spatial.distance.cosine(groundVect, compareVect)))\n",
    "            success += 1\n",
    "        except ValueError as e:\n",
    "            #print(f'skipped processing for {b}')\n",
    "            #print(e)\n",
    "            errors += 1\n",
    "    print(f'{errors} errors')\n",
    "    print(f'{success} done')\n",
    "    return dict(sorted(ranking.items(), key=lambda item: item[1]))\n",
    "        "
   ]
  },
  {
   "cell_type": "code",
   "execution_count": 175,
   "id": "f6056733-76af-4305-b3fc-2b9399d5147c",
   "metadata": {},
   "outputs": [],
   "source": [
    "def partition_words(str: desc) -> tuple[str]:\n",
    "    terms = process(desc).split(',')\n",
    "    #print(terms)\n",
    "    color = terms[0]\n",
    "    #print(color)\n",
    "    mouthfeel = terms[1]\n",
    "    #print(mouthfeel)\n",
    "    taste = terms[2:]\n",
    "    #print(taste)\n",
    "    return color, mouthfeel, taste\n",
    "\n",
    "def process(desc: str) -> str:\n",
    "    tempTerms = []\n",
    "    desc = desc.lower().strip()\n",
    "    mapping = desc.maketrans({'-': '_'})\n",
    "    desc = desc.translate(mapping)\n",
    "    for terms in desc.split(','):\n",
    "        #print(terms)\n",
    "        term = ' '.join([ t for t in terms.split() if (t not in stops)])\n",
    "        #print(term)\n",
    "        tempTerms.append(term)\n",
    "    #print(tempTerms)\n",
    "    return ','.join(tempTerms)"
   ]
  },
  {
   "cell_type": "code",
   "execution_count": 176,
   "id": "d9510b9b-6afa-4bf5-9423-be0259bd510e",
   "metadata": {},
   "outputs": [],
   "source": [
    "col, textu, taste = partition_words(\"Golden-yellow, full-bodied, cloudy, very strongly hopped, apricot notes, fruity \\n\")"
   ]
  },
  {
   "cell_type": "code",
   "execution_count": 177,
   "id": "73e55dfd-2353-47d5-a1a7-ec2506c5fcb5",
   "metadata": {},
   "outputs": [
    {
     "data": {
      "text/plain": [
       "3.138782501220703"
      ]
     },
     "execution_count": 177,
     "metadata": {},
     "output_type": "execute_result"
    }
   ],
   "source": [
    "spatial.distance.euclidean( wmd.get_word_vector('toasted malt'), wmd.get_word_vector('toasted_malt'))"
   ]
  },
  {
   "cell_type": "code",
   "execution_count": 178,
   "id": "25fcd5fb-a14a-4844-a996-4ee1ac2a0d7d",
   "metadata": {},
   "outputs": [],
   "source": [
    "col, feel, taste = partition_words(\"Golden-yellow, full-bodied, cloudy, very strongly hopped, apricot notes, fruity \\n\")"
   ]
  },
  {
   "cell_type": "code",
   "execution_count": 179,
   "id": "f850fc31-0a24-4eb6-993f-4e9868441b79",
   "metadata": {},
   "outputs": [
    {
     "data": {
      "text/plain": [
       "'cinnamon_brown'"
      ]
     },
     "execution_count": 179,
     "metadata": {},
     "output_type": "execute_result"
    }
   ],
   "source": [
    "col"
   ]
  },
  {
   "cell_type": "code",
   "execution_count": 180,
   "id": "338dbdf0-3e20-455c-92c8-f00a35b0765b",
   "metadata": {},
   "outputs": [
    {
     "data": {
      "text/plain": [
       "'extra full_bodied'"
      ]
     },
     "execution_count": 180,
     "metadata": {},
     "output_type": "execute_result"
    }
   ],
   "source": [
    "feel"
   ]
  },
  {
   "cell_type": "code",
   "execution_count": 181,
   "id": "a533f0b1-6ad1-4ba9-8329-e96df6384a7a",
   "metadata": {},
   "outputs": [
    {
     "data": {
      "text/plain": [
       "['cloudy', 'mildly hopped', 'toasted malt', 'grainy', 'aromatic']"
      ]
     },
     "execution_count": 181,
     "metadata": {},
     "output_type": "execute_result"
    }
   ],
   "source": [
    "taste"
   ]
  },
  {
   "cell_type": "code",
   "execution_count": null,
   "id": "fb0d99e9-5d30-4309-84ed-2146e48dd7b9",
   "metadata": {},
   "outputs": [],
   "source": []
  }
 ],
 "metadata": {
  "kernelspec": {
   "display_name": "Python 3 (ipykernel)",
   "language": "python",
   "name": "python3"
  },
  "language_info": {
   "codemirror_mode": {
    "name": "ipython",
    "version": 3
   },
   "file_extension": ".py",
   "mimetype": "text/x-python",
   "name": "python",
   "nbconvert_exporter": "python",
   "pygments_lexer": "ipython3",
   "version": "3.9.6"
  }
 },
 "nbformat": 4,
 "nbformat_minor": 5
}

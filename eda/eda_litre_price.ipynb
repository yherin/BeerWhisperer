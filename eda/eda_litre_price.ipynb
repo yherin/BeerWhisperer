{
 "cells": [
  {
   "cell_type": "code",
   "execution_count": 27,
   "metadata": {},
   "outputs": [],
   "source": [
    "import pandas as pd\n",
    "from IPython.display import display\n",
    "import matplotlib.pyplot as plt"
   ]
  },
  {
   "cell_type": "code",
   "execution_count": 6,
   "metadata": {},
   "outputs": [],
   "source": [
    "file = '../data/alkon-hinnasto-tekstitiedostona.csv'"
   ]
  },
  {
   "cell_type": "code",
   "execution_count": 11,
   "metadata": {},
   "outputs": [],
   "source": [
    "df = pd.read_csv(file, skiprows=2)"
   ]
  },
  {
   "cell_type": "code",
   "execution_count": 20,
   "metadata": {},
   "outputs": [
    {
     "data": {
      "text/plain": [
       "(11247, 30)"
      ]
     },
     "metadata": {},
     "output_type": "display_data"
    },
    {
     "data": {
      "text/plain": [
       "array(['punaviinit', 'roseeviinit', 'valkoviinit', nan, 'rommit',\n",
       "       'konjakit', 'viskit', 'oluet', 'siiderit', 'juomasekoitukset',\n",
       "       'alkoholittomat', 'lahja- ja juomatarvikkeet',\n",
       "       'Jälkiruokaviinit, väkevöidyt ja muut viinit',\n",
       "       'Brandyt, Armanjakit ja Calvadosit', 'Ginit ja maustetut viinat',\n",
       "       'Liköörit ja Katkerot', 'kuohuviinit & samppanjat',\n",
       "       'vodkat ja viinat'], dtype=object)"
      ]
     },
     "metadata": {},
     "output_type": "display_data"
    }
   ],
   "source": [
    "display(df.shape)\n",
    "display(df.Tyyppi.unique())"
   ]
  },
  {
   "cell_type": "code",
   "execution_count": 23,
   "metadata": {},
   "outputs": [
    {
     "data": {
      "text/plain": [
       "(1156, 30)"
      ]
     },
     "metadata": {},
     "output_type": "display_data"
    }
   ],
   "source": [
    "df = df[df['Tyyppi'] == 'oluet']\n",
    "display(df.shape)"
   ]
  },
  {
   "cell_type": "code",
   "execution_count": 36,
   "metadata": {},
   "outputs": [
    {
     "name": "stdout",
     "output_type": "stream",
     "text": [
      "<class 'pandas.core.frame.DataFrame'>\n",
      "Int64Index: 1156 entries, 6264 to 8234\n",
      "Data columns (total 30 columns):\n",
      " #   Column                  Non-Null Count  Dtype  \n",
      "---  ------                  --------------  -----  \n",
      " 0   Numero                  1156 non-null   int64  \n",
      " 1   Nimi                    1156 non-null   object \n",
      " 2   Valmistaja              1156 non-null   object \n",
      " 3   Pullokoko               1156 non-null   object \n",
      " 4   Hinta                   1156 non-null   float64\n",
      " 5   Litrahinta              1156 non-null   float64\n",
      " 6   Uutuus                  77 non-null     object \n",
      " 7   Hinnastojärjestyskoodi  1156 non-null   object \n",
      " 8   Tyyppi                  1156 non-null   object \n",
      " 9   Alatyyppi               829 non-null    object \n",
      " 10  Erityisryhmä            227 non-null    object \n",
      " 11  Oluttyyppi              1156 non-null   object \n",
      " 12  Valmistusmaa            1156 non-null   object \n",
      " 13  Alue                    0 non-null      object \n",
      " 14  Vuosikerta              17 non-null     float64\n",
      " 15  Etikettimerkintöjä      3 non-null      object \n",
      " 16  Huomautus               759 non-null    object \n",
      " 17  Rypäleet                0 non-null      object \n",
      " 18  Luonnehdinta            1156 non-null   object \n",
      " 19  Pakkaustyyppi           1156 non-null   object \n",
      " 20  Suljentatyyppi          1154 non-null   object \n",
      " 21  Alkoholi-%              1156 non-null   float64\n",
      " 22  Hapot g/l               0 non-null      float64\n",
      " 23  Sokeri g/l              0 non-null      float64\n",
      " 24  Kantavierrep-%          1152 non-null   float64\n",
      " 25  Väri EBC                217 non-null    float64\n",
      " 26  Katkerot EBU            1132 non-null   float64\n",
      " 27  Energia kcal/100 ml     1150 non-null   float64\n",
      " 28  Valikoima               1156 non-null   object \n",
      " 29  EAN                     1156 non-null   int64  \n",
      "dtypes: float64(10), int64(2), object(18)\n",
      "memory usage: 280.0+ KB\n"
     ]
    }
   ],
   "source": [
    "df.info()"
   ]
  },
  {
   "cell_type": "code",
   "execution_count": 35,
   "metadata": {},
   "outputs": [
    {
     "data": {
      "text/html": [
       "<div>\n",
       "<style scoped>\n",
       "    .dataframe tbody tr th:only-of-type {\n",
       "        vertical-align: middle;\n",
       "    }\n",
       "\n",
       "    .dataframe tbody tr th {\n",
       "        vertical-align: top;\n",
       "    }\n",
       "\n",
       "    .dataframe thead th {\n",
       "        text-align: right;\n",
       "    }\n",
       "</style>\n",
       "<table border=\"1\" class=\"dataframe\">\n",
       "  <thead>\n",
       "    <tr style=\"text-align: right;\">\n",
       "      <th></th>\n",
       "      <th>Numero</th>\n",
       "      <th>Nimi</th>\n",
       "      <th>Valmistaja</th>\n",
       "      <th>Pullokoko</th>\n",
       "      <th>Hinta</th>\n",
       "      <th>Litrahinta</th>\n",
       "      <th>Uutuus</th>\n",
       "      <th>Hinnastojärjestyskoodi</th>\n",
       "      <th>Tyyppi</th>\n",
       "      <th>Alatyyppi</th>\n",
       "      <th>...</th>\n",
       "      <th>Suljentatyyppi</th>\n",
       "      <th>Alkoholi-%</th>\n",
       "      <th>Hapot g/l</th>\n",
       "      <th>Sokeri g/l</th>\n",
       "      <th>Kantavierrep-%</th>\n",
       "      <th>Väri EBC</th>\n",
       "      <th>Katkerot EBU</th>\n",
       "      <th>Energia kcal/100 ml</th>\n",
       "      <th>Valikoima</th>\n",
       "      <th>EAN</th>\n",
       "    </tr>\n",
       "  </thead>\n",
       "  <tbody>\n",
       "    <tr>\n",
       "      <th>6264</th>\n",
       "      <td>718897</td>\n",
       "      <td>Maxwell Honey Mead</td>\n",
       "      <td>Maxwell Wines</td>\n",
       "      <td>0,75 l</td>\n",
       "      <td>18.04</td>\n",
       "      <td>23.92</td>\n",
       "      <td>NaN</td>\n",
       "      <td>600</td>\n",
       "      <td>oluet</td>\n",
       "      <td>Erikoisuus</td>\n",
       "      <td>...</td>\n",
       "      <td>metallinen kierrekapseli</td>\n",
       "      <td>12.5</td>\n",
       "      <td>NaN</td>\n",
       "      <td>NaN</td>\n",
       "      <td>26.6</td>\n",
       "      <td>NaN</td>\n",
       "      <td>NaN</td>\n",
       "      <td>100.0</td>\n",
       "      <td>vakiovalikoima</td>\n",
       "      <td>9317705000107</td>\n",
       "    </tr>\n",
       "    <tr>\n",
       "      <th>6265</th>\n",
       "      <td>715894</td>\n",
       "      <td>Achel Blond</td>\n",
       "      <td>De Achelse Kluis</td>\n",
       "      <td>0,33 l</td>\n",
       "      <td>5.01</td>\n",
       "      <td>15.18</td>\n",
       "      <td>NaN</td>\n",
       "      <td>600</td>\n",
       "      <td>oluet</td>\n",
       "      <td>Erikoisuus</td>\n",
       "      <td>...</td>\n",
       "      <td>kruunukorkki</td>\n",
       "      <td>8.0</td>\n",
       "      <td>NaN</td>\n",
       "      <td>NaN</td>\n",
       "      <td>17.8</td>\n",
       "      <td>15.9</td>\n",
       "      <td>23.0</td>\n",
       "      <td>70.0</td>\n",
       "      <td>vakiovalikoima</td>\n",
       "      <td>5425007658828</td>\n",
       "    </tr>\n",
       "    <tr>\n",
       "      <th>6266</th>\n",
       "      <td>758594</td>\n",
       "      <td>Achel Bruin</td>\n",
       "      <td>De Achelse Kluis</td>\n",
       "      <td>0,33 l</td>\n",
       "      <td>5.34</td>\n",
       "      <td>16.18</td>\n",
       "      <td>NaN</td>\n",
       "      <td>600</td>\n",
       "      <td>oluet</td>\n",
       "      <td>Erikoisuus</td>\n",
       "      <td>...</td>\n",
       "      <td>kruunukorkki</td>\n",
       "      <td>8.0</td>\n",
       "      <td>NaN</td>\n",
       "      <td>NaN</td>\n",
       "      <td>18.5</td>\n",
       "      <td>41.8</td>\n",
       "      <td>24.0</td>\n",
       "      <td>70.0</td>\n",
       "      <td>vakiovalikoima</td>\n",
       "      <td>5425007658880</td>\n",
       "    </tr>\n",
       "    <tr>\n",
       "      <th>6267</th>\n",
       "      <td>730097</td>\n",
       "      <td>Achel Extra Bruin</td>\n",
       "      <td>De Achelse Kluis</td>\n",
       "      <td>0,75 l</td>\n",
       "      <td>15.51</td>\n",
       "      <td>20.68</td>\n",
       "      <td>NaN</td>\n",
       "      <td>600</td>\n",
       "      <td>oluet</td>\n",
       "      <td>Erikoisuus</td>\n",
       "      <td>...</td>\n",
       "      <td>kruunukorkki</td>\n",
       "      <td>9.5</td>\n",
       "      <td>NaN</td>\n",
       "      <td>NaN</td>\n",
       "      <td>19.4</td>\n",
       "      <td>70.5</td>\n",
       "      <td>18.0</td>\n",
       "      <td>70.0</td>\n",
       "      <td>vakiovalikoima</td>\n",
       "      <td>5425007658859</td>\n",
       "    </tr>\n",
       "    <tr>\n",
       "      <th>6268</th>\n",
       "      <td>919855</td>\n",
       "      <td>Alvinne Phi Blond Sour Ale</td>\n",
       "      <td>Brouwerij Alvinne NV</td>\n",
       "      <td>0,33 l</td>\n",
       "      <td>5.42</td>\n",
       "      <td>16.42</td>\n",
       "      <td>NaN</td>\n",
       "      <td>600</td>\n",
       "      <td>oluet</td>\n",
       "      <td>Erikoisuus</td>\n",
       "      <td>...</td>\n",
       "      <td>kruunukorkki</td>\n",
       "      <td>8.0</td>\n",
       "      <td>NaN</td>\n",
       "      <td>NaN</td>\n",
       "      <td>17.6</td>\n",
       "      <td>NaN</td>\n",
       "      <td>7.0</td>\n",
       "      <td>70.0</td>\n",
       "      <td>tilausvalikoima</td>\n",
       "      <td>5425031890355</td>\n",
       "    </tr>\n",
       "  </tbody>\n",
       "</table>\n",
       "<p>5 rows × 30 columns</p>\n",
       "</div>"
      ],
      "text/plain": [
       "      Numero                        Nimi            Valmistaja Pullokoko  \\\n",
       "6264  718897          Maxwell Honey Mead         Maxwell Wines    0,75 l   \n",
       "6265  715894                 Achel Blond      De Achelse Kluis    0,33 l   \n",
       "6266  758594                 Achel Bruin      De Achelse Kluis    0,33 l   \n",
       "6267  730097           Achel Extra Bruin      De Achelse Kluis    0,75 l   \n",
       "6268  919855  Alvinne Phi Blond Sour Ale  Brouwerij Alvinne NV    0,33 l   \n",
       "\n",
       "      Hinta  Litrahinta Uutuus Hinnastojärjestyskoodi Tyyppi   Alatyyppi  ...  \\\n",
       "6264  18.04       23.92    NaN                    600  oluet  Erikoisuus  ...   \n",
       "6265   5.01       15.18    NaN                    600  oluet  Erikoisuus  ...   \n",
       "6266   5.34       16.18    NaN                    600  oluet  Erikoisuus  ...   \n",
       "6267  15.51       20.68    NaN                    600  oluet  Erikoisuus  ...   \n",
       "6268   5.42       16.42    NaN                    600  oluet  Erikoisuus  ...   \n",
       "\n",
       "                Suljentatyyppi Alkoholi-% Hapot g/l Sokeri g/l  \\\n",
       "6264  metallinen kierrekapseli       12.5       NaN        NaN   \n",
       "6265              kruunukorkki        8.0       NaN        NaN   \n",
       "6266              kruunukorkki        8.0       NaN        NaN   \n",
       "6267              kruunukorkki        9.5       NaN        NaN   \n",
       "6268              kruunukorkki        8.0       NaN        NaN   \n",
       "\n",
       "      Kantavierrep-% Väri EBC Katkerot EBU Energia kcal/100 ml  \\\n",
       "6264            26.6      NaN          NaN               100.0   \n",
       "6265            17.8     15.9         23.0                70.0   \n",
       "6266            18.5     41.8         24.0                70.0   \n",
       "6267            19.4     70.5         18.0                70.0   \n",
       "6268            17.6      NaN          7.0                70.0   \n",
       "\n",
       "            Valikoima            EAN  \n",
       "6264   vakiovalikoima  9317705000107  \n",
       "6265   vakiovalikoima  5425007658828  \n",
       "6266   vakiovalikoima  5425007658880  \n",
       "6267   vakiovalikoima  5425007658859  \n",
       "6268  tilausvalikoima  5425031890355  \n",
       "\n",
       "[5 rows x 30 columns]"
      ]
     },
     "execution_count": 35,
     "metadata": {},
     "output_type": "execute_result"
    }
   ],
   "source": [
    "df.head()"
   ]
  },
  {
   "cell_type": "code",
   "execution_count": 41,
   "metadata": {},
   "outputs": [
    {
     "data": {
      "image/png": "[encoded data removed]",
      "text/plain": [
       "<Figure size 432x288 with 1 Axes>"
      ]
     },
     "metadata": {
      "needs_background": "light"
     },
     "output_type": "display_data"
    }
   ],
   "source": [
    "plt.scatter(df['Litrahinta'], df['Alkoholi-%'])\n",
    "plt.show()"
   ]
  },
  {
   "cell_type": "code",
   "execution_count": 75,
   "metadata": {},
   "outputs": [
    {
     "data": {
      "text/html": [
       "<div>\n",
       "<style scoped>\n",
       "    .dataframe tbody tr th:only-of-type {\n",
       "        vertical-align: middle;\n",
       "    }\n",
       "\n",
       "    .dataframe tbody tr th {\n",
       "        vertical-align: top;\n",
       "    }\n",
       "\n",
       "    .dataframe thead th {\n",
       "        text-align: right;\n",
       "    }\n",
       "</style>\n",
       "<table border=\"1\" class=\"dataframe\">\n",
       "  <thead>\n",
       "    <tr style=\"text-align: right;\">\n",
       "      <th></th>\n",
       "      <th>count_of_products</th>\n",
       "      <th>mean_price</th>\n",
       "      <th>meand_litre_price</th>\n",
       "      <th>mean_alcohol_percentage</th>\n",
       "    </tr>\n",
       "    <tr>\n",
       "      <th>Alatyyppi</th>\n",
       "      <th></th>\n",
       "      <th></th>\n",
       "      <th></th>\n",
       "      <th></th>\n",
       "    </tr>\n",
       "  </thead>\n",
       "  <tbody>\n",
       "    <tr>\n",
       "      <th>Erikoisuus</th>\n",
       "      <td>254</td>\n",
       "      <td>8.263465</td>\n",
       "      <td>18.956890</td>\n",
       "      <td>7.092520</td>\n",
       "    </tr>\n",
       "    <tr>\n",
       "      <th>Stout &amp; Porter</th>\n",
       "      <td>186</td>\n",
       "      <td>8.570860</td>\n",
       "      <td>22.360806</td>\n",
       "      <td>9.469355</td>\n",
       "    </tr>\n",
       "    <tr>\n",
       "      <th>Lager</th>\n",
       "      <td>120</td>\n",
       "      <td>6.947500</td>\n",
       "      <td>7.756000</td>\n",
       "      <td>5.157500</td>\n",
       "    </tr>\n",
       "    <tr>\n",
       "      <th>Ale</th>\n",
       "      <td>106</td>\n",
       "      <td>7.805660</td>\n",
       "      <td>16.149906</td>\n",
       "      <td>7.603774</td>\n",
       "    </tr>\n",
       "    <tr>\n",
       "      <th>Vehnäolut</th>\n",
       "      <td>62</td>\n",
       "      <td>4.203226</td>\n",
       "      <td>9.673871</td>\n",
       "      <td>5.850000</td>\n",
       "    </tr>\n",
       "    <tr>\n",
       "      <th>Vahva lager</th>\n",
       "      <td>45</td>\n",
       "      <td>4.986000</td>\n",
       "      <td>8.822222</td>\n",
       "      <td>7.322222</td>\n",
       "    </tr>\n",
       "    <tr>\n",
       "      <th>Pils</th>\n",
       "      <td>31</td>\n",
       "      <td>4.679032</td>\n",
       "      <td>8.973871</td>\n",
       "      <td>5.038710</td>\n",
       "    </tr>\n",
       "    <tr>\n",
       "      <th>Tumma lager</th>\n",
       "      <td>23</td>\n",
       "      <td>3.786522</td>\n",
       "      <td>8.395217</td>\n",
       "      <td>4.978261</td>\n",
       "    </tr>\n",
       "    <tr>\n",
       "      <th>Rosee ja muut viinit</th>\n",
       "      <td>2</td>\n",
       "      <td>37.020000</td>\n",
       "      <td>17.900000</td>\n",
       "      <td>7.150000</td>\n",
       "    </tr>\n",
       "  </tbody>\n",
       "</table>\n",
       "</div>"
      ],
      "text/plain": [
       "                      count_of_products  mean_price  meand_litre_price  \\\n",
       "Alatyyppi                                                                \n",
       "Erikoisuus                          254    8.263465          18.956890   \n",
       "Stout & Porter                      186    8.570860          22.360806   \n",
       "Lager                               120    6.947500           7.756000   \n",
       "Ale                                 106    7.805660          16.149906   \n",
       "Vehnäolut                            62    4.203226           9.673871   \n",
       "Vahva lager                          45    4.986000           8.822222   \n",
       "Pils                                 31    4.679032           8.973871   \n",
       "Tumma lager                          23    3.786522           8.395217   \n",
       "Rosee ja muut viinit                  2   37.020000          17.900000   \n",
       "\n",
       "                      mean_alcohol_percentage  \n",
       "Alatyyppi                                      \n",
       "Erikoisuus                           7.092520  \n",
       "Stout & Porter                       9.469355  \n",
       "Lager                                5.157500  \n",
       "Ale                                  7.603774  \n",
       "Vehnäolut                            5.850000  \n",
       "Vahva lager                          7.322222  \n",
       "Pils                                 5.038710  \n",
       "Tumma lager                          4.978261  \n",
       "Rosee ja muut viinit                 7.150000  "
      ]
     },
     "metadata": {},
     "output_type": "display_data"
    },
    {
     "data": {
      "image/png": "[encoded data removed]",
      "text/plain": [
       "<Figure size 432x288 with 1 Axes>"
      ]
     },
     "metadata": {
      "needs_background": "light"
     },
     "output_type": "display_data"
    }
   ],
   "source": [
    "df_alatyypit = df.groupby(['Alatyyppi']).agg(\n",
    "    count_of_products = ('Numero', 'count'),\n",
    "    mean_price = ('Hinta', 'mean'),\n",
    "    meand_litre_price = ('Litrahinta', 'mean'),\n",
    "    mean_alcohol_percentage = ('Alkoholi-%', 'mean')\n",
    ").sort_values(by='count_of_products',ascending=False)\n",
    "display(df_alatyypit.head(10))\n",
    "plt.scatter('meand_litre_price', 'mean_alcohol_percentage', s='count_of_products', data=df_alatyypit)\n",
    "plt.show()"
   ]
  },
  {
   "cell_type": "code",
   "execution_count": 76,
   "metadata": {},
   "outputs": [
    {
     "data": {
      "image/png": "[encoded data removed]",
      "text/plain": [
       "<Figure size 432x288 with 1 Axes>"
      ]
     },
     "metadata": {
      "needs_background": "light"
     },
     "output_type": "display_data"
    }
   ],
   "source": [
    "df_valmistaja = df.groupby(['Valmistaja']).agg(\n",
    "    count_of_products = ('Numero', 'count'),\n",
    "    mean_price = ('Hinta', 'mean'),\n",
    "    meand_litre_price = ('Litrahinta', 'mean'),\n",
    "    mean_alcohol_percentage = ('Alkoholi-%', 'mean')\n",
    ").sort_values(by='count_of_products',ascending=False)\n",
    "df_valmistaja.head(20)\n",
    "plt.scatter('meand_litre_price', 'mean_alcohol_percentage', s='count_of_products', data=df_valmistaja)\n",
    "plt.show()"
   ]
  },
  {
   "cell_type": "code",
   "execution_count": 77,
   "metadata": {},
   "outputs": [],
   "source": [
    "from sklearn.cluster import KMeans"
   ]
  },
  {
   "cell_type": "code",
   "execution_count": 94,
   "metadata": {},
   "outputs": [
    {
     "data": {
      "text/html": [
       "<div>\n",
       "<style scoped>\n",
       "    .dataframe tbody tr th:only-of-type {\n",
       "        vertical-align: middle;\n",
       "    }\n",
       "\n",
       "    .dataframe tbody tr th {\n",
       "        vertical-align: top;\n",
       "    }\n",
       "\n",
       "    .dataframe thead th {\n",
       "        text-align: right;\n",
       "    }\n",
       "</style>\n",
       "<table border=\"1\" class=\"dataframe\">\n",
       "  <thead>\n",
       "    <tr style=\"text-align: right;\">\n",
       "      <th></th>\n",
       "      <th>Litrahinta</th>\n",
       "      <th>Alkoholi-%</th>\n",
       "    </tr>\n",
       "  </thead>\n",
       "  <tbody>\n",
       "    <tr>\n",
       "      <th>6264</th>\n",
       "      <td>23.92</td>\n",
       "      <td>12.5</td>\n",
       "    </tr>\n",
       "    <tr>\n",
       "      <th>6265</th>\n",
       "      <td>15.18</td>\n",
       "      <td>8.0</td>\n",
       "    </tr>\n",
       "    <tr>\n",
       "      <th>6266</th>\n",
       "      <td>16.18</td>\n",
       "      <td>8.0</td>\n",
       "    </tr>\n",
       "    <tr>\n",
       "      <th>6267</th>\n",
       "      <td>20.68</td>\n",
       "      <td>9.5</td>\n",
       "    </tr>\n",
       "    <tr>\n",
       "      <th>6268</th>\n",
       "      <td>16.42</td>\n",
       "      <td>8.0</td>\n",
       "    </tr>\n",
       "  </tbody>\n",
       "</table>\n",
       "</div>"
      ],
      "text/plain": [
       "      Litrahinta  Alkoholi-%\n",
       "6264       23.92        12.5\n",
       "6265       15.18         8.0\n",
       "6266       16.18         8.0\n",
       "6267       20.68         9.5\n",
       "6268       16.42         8.0"
      ]
     },
     "execution_count": 94,
     "metadata": {},
     "output_type": "execute_result"
    }
   ],
   "source": [
    "df_price_alcohol = df[['Litrahinta', 'Alkoholi-%']]\n",
    "df_price_alcohol.head()"
   ]
  },
  {
   "cell_type": "code",
   "execution_count": 96,
   "metadata": {},
   "outputs": [],
   "source": [
    "kmeans = KMeans(random_state=0).fit(df_price_alcohol)"
   ]
  },
  {
   "cell_type": "code",
   "execution_count": 97,
   "metadata": {},
   "outputs": [],
   "source": [
    "centroids = kmeans.cluster_centers_"
   ]
  },
  {
   "cell_type": "code",
   "execution_count": 98,
   "metadata": {},
   "outputs": [
    {
     "data": {
      "image/png": "[encoded data removed]",
      "text/plain": [
       "<Figure size 432x288 with 1 Axes>"
      ]
     },
     "metadata": {
      "needs_background": "light"
     },
     "output_type": "display_data"
    }
   ],
   "source": [
    "plt.scatter(df_price_alcohol['Litrahinta'], df_price_alcohol['Alkoholi-%'], c= kmeans.labels_.astype(float), s=50, alpha=0.5)\n",
    "plt.scatter(centroids[:, 0], centroids[:, 1], c='red', s=50)\n",
    "plt.show()"
   ]
  },
  {
   "cell_type": "code",
   "execution_count": null,
   "metadata": {},
   "outputs": [],
   "source": []
  }
 ],
 "metadata": {
  "kernelspec": {
   "display_name": "Python 3",
   "language": "python",
   "name": "python3"
  },
  "language_info": {
   "codemirror_mode": {
    "name": "ipython",
    "version": 3
   },
   "file_extension": ".py",
   "mimetype": "text/x-python",
   "name": "python",
   "nbconvert_exporter": "python",
   "pygments_lexer": "ipython3",
   "version": "3.8.5"
  }
 },
 "nbformat": 4,
 "nbformat_minor": 4
}

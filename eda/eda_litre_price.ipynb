{
 "cells": [
  {
   "cell_type": "code",
   "execution_count": 116,
   "metadata": {},
   "outputs": [],
   "source": [
    "import pandas as pd\n",
    "from IPython.display import display\n",
    "import matplotlib.pyplot as plt\n",
    "import seaborn as sns\n",
    "import numpy as np"
   ]
  },
  {
   "cell_type": "code",
   "execution_count": 92,
   "metadata": {},
   "outputs": [],
   "source": [
    "file = '../data/alkon-hinnasto-tekstitiedostona.csv'"
   ]
  },
  {
   "cell_type": "code",
   "execution_count": 93,
   "metadata": {},
   "outputs": [],
   "source": [
    "df = pd.read_csv(file, skiprows=2)"
   ]
  },
  {
   "cell_type": "code",
   "execution_count": 94,
   "metadata": {},
   "outputs": [
    {
     "data": {
      "text/plain": [
       "(11247, 30)"
      ]
     },
     "metadata": {},
     "output_type": "display_data"
    },
    {
     "data": {
      "text/plain": [
       "array(['punaviinit', 'roseeviinit', 'valkoviinit', nan, 'rommit',\n",
       "       'konjakit', 'viskit', 'oluet', 'siiderit', 'juomasekoitukset',\n",
       "       'alkoholittomat', 'lahja- ja juomatarvikkeet',\n",
       "       'Jälkiruokaviinit, väkevöidyt ja muut viinit',\n",
       "       'Brandyt, Armanjakit ja Calvadosit', 'Ginit ja maustetut viinat',\n",
       "       'Liköörit ja Katkerot', 'kuohuviinit & samppanjat',\n",
       "       'vodkat ja viinat'], dtype=object)"
      ]
     },
     "metadata": {},
     "output_type": "display_data"
    }
   ],
   "source": [
    "display(df.shape)\n",
    "display(df.Tyyppi.unique())"
   ]
  },
  {
   "cell_type": "code",
   "execution_count": 95,
   "metadata": {},
   "outputs": [
    {
     "data": {
      "text/plain": [
       "(1156, 30)"
      ]
     },
     "metadata": {},
     "output_type": "display_data"
    }
   ],
   "source": [
    "df = df[df['Tyyppi'] == 'oluet']\n",
    "display(df.shape)"
   ]
  },
  {
   "cell_type": "code",
   "execution_count": 96,
   "metadata": {},
   "outputs": [
    {
     "name": "stdout",
     "output_type": "stream",
     "text": [
      "<class 'pandas.core.frame.DataFrame'>\n",
      "Int64Index: 1156 entries, 6264 to 8234\n",
      "Data columns (total 30 columns):\n",
      " #   Column                  Non-Null Count  Dtype  \n",
      "---  ------                  --------------  -----  \n",
      " 0   Numero                  1156 non-null   int64  \n",
      " 1   Nimi                    1156 non-null   object \n",
      " 2   Valmistaja              1156 non-null   object \n",
      " 3   Pullokoko               1156 non-null   object \n",
      " 4   Hinta                   1156 non-null   float64\n",
      " 5   Litrahinta              1156 non-null   float64\n",
      " 6   Uutuus                  77 non-null     object \n",
      " 7   Hinnastojärjestyskoodi  1156 non-null   object \n",
      " 8   Tyyppi                  1156 non-null   object \n",
      " 9   Alatyyppi               829 non-null    object \n",
      " 10  Erityisryhmä            227 non-null    object \n",
      " 11  Oluttyyppi              1156 non-null   object \n",
      " 12  Valmistusmaa            1156 non-null   object \n",
      " 13  Alue                    0 non-null      object \n",
      " 14  Vuosikerta              17 non-null     float64\n",
      " 15  Etikettimerkintöjä      3 non-null      object \n",
      " 16  Huomautus               759 non-null    object \n",
      " 17  Rypäleet                0 non-null      object \n",
      " 18  Luonnehdinta            1156 non-null   object \n",
      " 19  Pakkaustyyppi           1156 non-null   object \n",
      " 20  Suljentatyyppi          1154 non-null   object \n",
      " 21  Alkoholi-%              1156 non-null   float64\n",
      " 22  Hapot g/l               0 non-null      float64\n",
      " 23  Sokeri g/l              0 non-null      float64\n",
      " 24  Kantavierrep-%          1152 non-null   float64\n",
      " 25  Väri EBC                217 non-null    float64\n",
      " 26  Katkerot EBU            1132 non-null   float64\n",
      " 27  Energia kcal/100 ml     1150 non-null   float64\n",
      " 28  Valikoima               1156 non-null   object \n",
      " 29  EAN                     1156 non-null   int64  \n",
      "dtypes: float64(10), int64(2), object(18)\n",
      "memory usage: 280.0+ KB\n"
     ]
    }
   ],
   "source": [
    "df.info()"
   ]
  },
  {
   "cell_type": "code",
   "execution_count": 97,
   "metadata": {},
   "outputs": [
    {
     "data": {
      "text/html": [
       "<div>\n",
       "<style scoped>\n",
       "    .dataframe tbody tr th:only-of-type {\n",
       "        vertical-align: middle;\n",
       "    }\n",
       "\n",
       "    .dataframe tbody tr th {\n",
       "        vertical-align: top;\n",
       "    }\n",
       "\n",
       "    .dataframe thead th {\n",
       "        text-align: right;\n",
       "    }\n",
       "</style>\n",
       "<table border=\"1\" class=\"dataframe\">\n",
       "  <thead>\n",
       "    <tr style=\"text-align: right;\">\n",
       "      <th></th>\n",
       "      <th>Numero</th>\n",
       "      <th>Nimi</th>\n",
       "      <th>Valmistaja</th>\n",
       "      <th>Pullokoko</th>\n",
       "      <th>Hinta</th>\n",
       "      <th>Litrahinta</th>\n",
       "      <th>Uutuus</th>\n",
       "      <th>Hinnastojärjestyskoodi</th>\n",
       "      <th>Tyyppi</th>\n",
       "      <th>Alatyyppi</th>\n",
       "      <th>...</th>\n",
       "      <th>Suljentatyyppi</th>\n",
       "      <th>Alkoholi-%</th>\n",
       "      <th>Hapot g/l</th>\n",
       "      <th>Sokeri g/l</th>\n",
       "      <th>Kantavierrep-%</th>\n",
       "      <th>Väri EBC</th>\n",
       "      <th>Katkerot EBU</th>\n",
       "      <th>Energia kcal/100 ml</th>\n",
       "      <th>Valikoima</th>\n",
       "      <th>EAN</th>\n",
       "    </tr>\n",
       "  </thead>\n",
       "  <tbody>\n",
       "    <tr>\n",
       "      <th>6264</th>\n",
       "      <td>718897</td>\n",
       "      <td>Maxwell Honey Mead</td>\n",
       "      <td>Maxwell Wines</td>\n",
       "      <td>0,75 l</td>\n",
       "      <td>18.04</td>\n",
       "      <td>23.92</td>\n",
       "      <td>NaN</td>\n",
       "      <td>600</td>\n",
       "      <td>oluet</td>\n",
       "      <td>Erikoisuus</td>\n",
       "      <td>...</td>\n",
       "      <td>metallinen kierrekapseli</td>\n",
       "      <td>12.5</td>\n",
       "      <td>NaN</td>\n",
       "      <td>NaN</td>\n",
       "      <td>26.6</td>\n",
       "      <td>NaN</td>\n",
       "      <td>NaN</td>\n",
       "      <td>100.0</td>\n",
       "      <td>vakiovalikoima</td>\n",
       "      <td>9317705000107</td>\n",
       "    </tr>\n",
       "    <tr>\n",
       "      <th>6265</th>\n",
       "      <td>715894</td>\n",
       "      <td>Achel Blond</td>\n",
       "      <td>De Achelse Kluis</td>\n",
       "      <td>0,33 l</td>\n",
       "      <td>5.01</td>\n",
       "      <td>15.18</td>\n",
       "      <td>NaN</td>\n",
       "      <td>600</td>\n",
       "      <td>oluet</td>\n",
       "      <td>Erikoisuus</td>\n",
       "      <td>...</td>\n",
       "      <td>kruunukorkki</td>\n",
       "      <td>8.0</td>\n",
       "      <td>NaN</td>\n",
       "      <td>NaN</td>\n",
       "      <td>17.8</td>\n",
       "      <td>15.9</td>\n",
       "      <td>23.0</td>\n",
       "      <td>70.0</td>\n",
       "      <td>vakiovalikoima</td>\n",
       "      <td>5425007658828</td>\n",
       "    </tr>\n",
       "    <tr>\n",
       "      <th>6266</th>\n",
       "      <td>758594</td>\n",
       "      <td>Achel Bruin</td>\n",
       "      <td>De Achelse Kluis</td>\n",
       "      <td>0,33 l</td>\n",
       "      <td>5.34</td>\n",
       "      <td>16.18</td>\n",
       "      <td>NaN</td>\n",
       "      <td>600</td>\n",
       "      <td>oluet</td>\n",
       "      <td>Erikoisuus</td>\n",
       "      <td>...</td>\n",
       "      <td>kruunukorkki</td>\n",
       "      <td>8.0</td>\n",
       "      <td>NaN</td>\n",
       "      <td>NaN</td>\n",
       "      <td>18.5</td>\n",
       "      <td>41.8</td>\n",
       "      <td>24.0</td>\n",
       "      <td>70.0</td>\n",
       "      <td>vakiovalikoima</td>\n",
       "      <td>5425007658880</td>\n",
       "    </tr>\n",
       "    <tr>\n",
       "      <th>6267</th>\n",
       "      <td>730097</td>\n",
       "      <td>Achel Extra Bruin</td>\n",
       "      <td>De Achelse Kluis</td>\n",
       "      <td>0,75 l</td>\n",
       "      <td>15.51</td>\n",
       "      <td>20.68</td>\n",
       "      <td>NaN</td>\n",
       "      <td>600</td>\n",
       "      <td>oluet</td>\n",
       "      <td>Erikoisuus</td>\n",
       "      <td>...</td>\n",
       "      <td>kruunukorkki</td>\n",
       "      <td>9.5</td>\n",
       "      <td>NaN</td>\n",
       "      <td>NaN</td>\n",
       "      <td>19.4</td>\n",
       "      <td>70.5</td>\n",
       "      <td>18.0</td>\n",
       "      <td>70.0</td>\n",
       "      <td>vakiovalikoima</td>\n",
       "      <td>5425007658859</td>\n",
       "    </tr>\n",
       "    <tr>\n",
       "      <th>6268</th>\n",
       "      <td>919855</td>\n",
       "      <td>Alvinne Phi Blond Sour Ale</td>\n",
       "      <td>Brouwerij Alvinne NV</td>\n",
       "      <td>0,33 l</td>\n",
       "      <td>5.42</td>\n",
       "      <td>16.42</td>\n",
       "      <td>NaN</td>\n",
       "      <td>600</td>\n",
       "      <td>oluet</td>\n",
       "      <td>Erikoisuus</td>\n",
       "      <td>...</td>\n",
       "      <td>kruunukorkki</td>\n",
       "      <td>8.0</td>\n",
       "      <td>NaN</td>\n",
       "      <td>NaN</td>\n",
       "      <td>17.6</td>\n",
       "      <td>NaN</td>\n",
       "      <td>7.0</td>\n",
       "      <td>70.0</td>\n",
       "      <td>tilausvalikoima</td>\n",
       "      <td>5425031890355</td>\n",
       "    </tr>\n",
       "  </tbody>\n",
       "</table>\n",
       "<p>5 rows × 30 columns</p>\n",
       "</div>"
      ],
      "text/plain": [
       "      Numero                        Nimi            Valmistaja Pullokoko  \\\n",
       "6264  718897          Maxwell Honey Mead         Maxwell Wines    0,75 l   \n",
       "6265  715894                 Achel Blond      De Achelse Kluis    0,33 l   \n",
       "6266  758594                 Achel Bruin      De Achelse Kluis    0,33 l   \n",
       "6267  730097           Achel Extra Bruin      De Achelse Kluis    0,75 l   \n",
       "6268  919855  Alvinne Phi Blond Sour Ale  Brouwerij Alvinne NV    0,33 l   \n",
       "\n",
       "      Hinta  Litrahinta Uutuus Hinnastojärjestyskoodi Tyyppi   Alatyyppi  ...  \\\n",
       "6264  18.04       23.92    NaN                    600  oluet  Erikoisuus  ...   \n",
       "6265   5.01       15.18    NaN                    600  oluet  Erikoisuus  ...   \n",
       "6266   5.34       16.18    NaN                    600  oluet  Erikoisuus  ...   \n",
       "6267  15.51       20.68    NaN                    600  oluet  Erikoisuus  ...   \n",
       "6268   5.42       16.42    NaN                    600  oluet  Erikoisuus  ...   \n",
       "\n",
       "                Suljentatyyppi Alkoholi-% Hapot g/l Sokeri g/l  \\\n",
       "6264  metallinen kierrekapseli       12.5       NaN        NaN   \n",
       "6265              kruunukorkki        8.0       NaN        NaN   \n",
       "6266              kruunukorkki        8.0       NaN        NaN   \n",
       "6267              kruunukorkki        9.5       NaN        NaN   \n",
       "6268              kruunukorkki        8.0       NaN        NaN   \n",
       "\n",
       "      Kantavierrep-% Väri EBC Katkerot EBU Energia kcal/100 ml  \\\n",
       "6264            26.6      NaN          NaN               100.0   \n",
       "6265            17.8     15.9         23.0                70.0   \n",
       "6266            18.5     41.8         24.0                70.0   \n",
       "6267            19.4     70.5         18.0                70.0   \n",
       "6268            17.6      NaN          7.0                70.0   \n",
       "\n",
       "            Valikoima            EAN  \n",
       "6264   vakiovalikoima  9317705000107  \n",
       "6265   vakiovalikoima  5425007658828  \n",
       "6266   vakiovalikoima  5425007658880  \n",
       "6267   vakiovalikoima  5425007658859  \n",
       "6268  tilausvalikoima  5425031890355  \n",
       "\n",
       "[5 rows x 30 columns]"
      ]
     },
     "execution_count": 97,
     "metadata": {},
     "output_type": "execute_result"
    }
   ],
   "source": [
    "df.head()"
   ]
  },
  {
   "cell_type": "code",
   "execution_count": 98,
   "metadata": {},
   "outputs": [
    {
     "data": {
      "image/png": "[encoded data removed]",
      "text/plain": [
       "<Figure size 432x288 with 1 Axes>"
      ]
     },
     "metadata": {
      "needs_background": "light"
     },
     "output_type": "display_data"
    }
   ],
   "source": [
    "plt.scatter(df['Litrahinta'], df['Alkoholi-%'])\n",
    "plt.show()"
   ]
  },
  {
   "cell_type": "code",
   "execution_count": 99,
   "metadata": {},
   "outputs": [
    {
     "data": {
      "text/html": [
       "<div>\n",
       "<style scoped>\n",
       "    .dataframe tbody tr th:only-of-type {\n",
       "        vertical-align: middle;\n",
       "    }\n",
       "\n",
       "    .dataframe tbody tr th {\n",
       "        vertical-align: top;\n",
       "    }\n",
       "\n",
       "    .dataframe thead th {\n",
       "        text-align: right;\n",
       "    }\n",
       "</style>\n",
       "<table border=\"1\" class=\"dataframe\">\n",
       "  <thead>\n",
       "    <tr style=\"text-align: right;\">\n",
       "      <th></th>\n",
       "      <th>count_of_products</th>\n",
       "      <th>mean_price</th>\n",
       "      <th>mean_litre_price</th>\n",
       "      <th>mean_alcohol_percentage</th>\n",
       "    </tr>\n",
       "    <tr>\n",
       "      <th>Alatyyppi</th>\n",
       "      <th></th>\n",
       "      <th></th>\n",
       "      <th></th>\n",
       "      <th></th>\n",
       "    </tr>\n",
       "  </thead>\n",
       "  <tbody>\n",
       "    <tr>\n",
       "      <th>Erikoisuus</th>\n",
       "      <td>254</td>\n",
       "      <td>8.263465</td>\n",
       "      <td>18.956890</td>\n",
       "      <td>7.092520</td>\n",
       "    </tr>\n",
       "    <tr>\n",
       "      <th>Stout &amp; Porter</th>\n",
       "      <td>186</td>\n",
       "      <td>8.570860</td>\n",
       "      <td>22.360806</td>\n",
       "      <td>9.469355</td>\n",
       "    </tr>\n",
       "    <tr>\n",
       "      <th>Lager</th>\n",
       "      <td>120</td>\n",
       "      <td>6.947500</td>\n",
       "      <td>7.756000</td>\n",
       "      <td>5.157500</td>\n",
       "    </tr>\n",
       "    <tr>\n",
       "      <th>Ale</th>\n",
       "      <td>106</td>\n",
       "      <td>7.805660</td>\n",
       "      <td>16.149906</td>\n",
       "      <td>7.603774</td>\n",
       "    </tr>\n",
       "    <tr>\n",
       "      <th>Vehnäolut</th>\n",
       "      <td>62</td>\n",
       "      <td>4.203226</td>\n",
       "      <td>9.673871</td>\n",
       "      <td>5.850000</td>\n",
       "    </tr>\n",
       "    <tr>\n",
       "      <th>Vahva lager</th>\n",
       "      <td>45</td>\n",
       "      <td>4.986000</td>\n",
       "      <td>8.822222</td>\n",
       "      <td>7.322222</td>\n",
       "    </tr>\n",
       "    <tr>\n",
       "      <th>Pils</th>\n",
       "      <td>31</td>\n",
       "      <td>4.679032</td>\n",
       "      <td>8.973871</td>\n",
       "      <td>5.038710</td>\n",
       "    </tr>\n",
       "    <tr>\n",
       "      <th>Tumma lager</th>\n",
       "      <td>23</td>\n",
       "      <td>3.786522</td>\n",
       "      <td>8.395217</td>\n",
       "      <td>4.978261</td>\n",
       "    </tr>\n",
       "    <tr>\n",
       "      <th>Rosee ja muut viinit</th>\n",
       "      <td>2</td>\n",
       "      <td>37.020000</td>\n",
       "      <td>17.900000</td>\n",
       "      <td>7.150000</td>\n",
       "    </tr>\n",
       "  </tbody>\n",
       "</table>\n",
       "</div>"
      ],
      "text/plain": [
       "                      count_of_products  mean_price  mean_litre_price  \\\n",
       "Alatyyppi                                                               \n",
       "Erikoisuus                          254    8.263465         18.956890   \n",
       "Stout & Porter                      186    8.570860         22.360806   \n",
       "Lager                               120    6.947500          7.756000   \n",
       "Ale                                 106    7.805660         16.149906   \n",
       "Vehnäolut                            62    4.203226          9.673871   \n",
       "Vahva lager                          45    4.986000          8.822222   \n",
       "Pils                                 31    4.679032          8.973871   \n",
       "Tumma lager                          23    3.786522          8.395217   \n",
       "Rosee ja muut viinit                  2   37.020000         17.900000   \n",
       "\n",
       "                      mean_alcohol_percentage  \n",
       "Alatyyppi                                      \n",
       "Erikoisuus                           7.092520  \n",
       "Stout & Porter                       9.469355  \n",
       "Lager                                5.157500  \n",
       "Ale                                  7.603774  \n",
       "Vehnäolut                            5.850000  \n",
       "Vahva lager                          7.322222  \n",
       "Pils                                 5.038710  \n",
       "Tumma lager                          4.978261  \n",
       "Rosee ja muut viinit                 7.150000  "
      ]
     },
     "metadata": {},
     "output_type": "display_data"
    },
    {
     "data": {
      "image/png": "[encoded data removed]",
      "text/plain": [
       "<Figure size 432x288 with 1 Axes>"
      ]
     },
     "metadata": {
      "needs_background": "light"
     },
     "output_type": "display_data"
    }
   ],
   "source": [
    "df_alatyypit = df.groupby(['Alatyyppi']).agg(\n",
    "    count_of_products = ('Numero', 'count'),\n",
    "    mean_price = ('Hinta', 'mean'),\n",
    "    mean_litre_price = ('Litrahinta', 'mean'),\n",
    "    mean_alcohol_percentage = ('Alkoholi-%', 'mean')\n",
    ").sort_values(by='count_of_products',ascending=False)\n",
    "display(df_alatyypit.head(10))\n",
    "plt.scatter('mean_litre_price', 'mean_alcohol_percentage', s='count_of_products', data=df_alatyypit)\n",
    "plt.show()"
   ]
  },
  {
   "cell_type": "code",
   "execution_count": 100,
   "metadata": {},
   "outputs": [
    {
     "data": {
      "image/png": "[encoded data removed]",
      "text/plain": [
       "<Figure size 432x288 with 1 Axes>"
      ]
     },
     "metadata": {
      "needs_background": "light"
     },
     "output_type": "display_data"
    }
   ],
   "source": [
    "df_valmistaja = df.groupby(['Valmistaja']).agg(\n",
    "    count_of_products = ('Numero', 'count'),\n",
    "    mean_price = ('Hinta', 'mean'),\n",
    "    mean_litre_price = ('Litrahinta', 'mean'),\n",
    "    mean_alcohol_percentage = ('Alkoholi-%', 'mean')\n",
    ").sort_values(by='count_of_products',ascending=False)\n",
    "df_valmistaja.head(20)\n",
    "plt.scatter('mean_litre_price', 'mean_alcohol_percentage', s='count_of_products', data=df_valmistaja)\n",
    "plt.show()"
   ]
  },
  {
   "cell_type": "code",
   "execution_count": 101,
   "metadata": {},
   "outputs": [],
   "source": [
    "from sklearn.cluster import KMeans\n",
    "from sklearn.linear_model import LinearRegression"
   ]
  },
  {
   "cell_type": "code",
   "execution_count": 102,
   "metadata": {},
   "outputs": [],
   "source": [
    "kmeans = KMeans(n_clusters=10, random_state=0).fit(df[['Litrahinta', 'Alkoholi-%']])"
   ]
  },
  {
   "cell_type": "code",
   "execution_count": 103,
   "metadata": {},
   "outputs": [],
   "source": [
    "centroids = kmeans.cluster_centers_"
   ]
  },
  {
   "cell_type": "code",
   "execution_count": 104,
   "metadata": {},
   "outputs": [
    {
     "data": {
      "image/png": "[encoded data removed]",
      "text/plain": [
       "<Figure size 432x288 with 1 Axes>"
      ]
     },
     "metadata": {
      "needs_background": "light"
     },
     "output_type": "display_data"
    }
   ],
   "source": [
    "plt.scatter(df['Litrahinta'], df['Alkoholi-%'], c= kmeans.labels_.astype(float), s=50, alpha=0.5)\n",
    "plt.scatter(centroids[:, 0], centroids[:, 1], c='red', s=50)\n",
    "plt.show()"
   ]
  },
  {
   "cell_type": "code",
   "execution_count": 105,
   "metadata": {},
   "outputs": [
    {
     "data": {
      "text/plain": [
       "<seaborn.axisgrid.FacetGrid at 0x7fa563476d90>"
      ]
     },
     "execution_count": 105,
     "metadata": {},
     "output_type": "execute_result"
    },
    {
     "data": {
      "image/png": "[encoded data removed]",
      "text/plain": [
       "<Figure size 495.25x360 with 1 Axes>"
      ]
     },
     "metadata": {
      "needs_background": "light"
     },
     "output_type": "display_data"
    }
   ],
   "source": [
    "sns.displot(df, x='Litrahinta', hue='Alatyyppi', kind=\"kde\", multiple=\"stack\")"
   ]
  },
  {
   "cell_type": "code",
   "execution_count": 106,
   "metadata": {},
   "outputs": [
    {
     "data": {
      "text/plain": [
       "<seaborn.axisgrid.FacetGrid at 0x7fa5634536a0>"
      ]
     },
     "execution_count": 106,
     "metadata": {},
     "output_type": "execute_result"
    },
    {
     "data": {
      "image/png": "[encoded data removed]",
      "text/plain": [
       "<Figure size 360x360 with 1 Axes>"
      ]
     },
     "metadata": {
      "needs_background": "light"
     },
     "output_type": "display_data"
    },
    {
     "data": {
      "image/png": "[encoded data removed]",
      "text/plain": [
       "<Figure size 402.375x360 with 1 Axes>"
      ]
     },
     "metadata": {
      "needs_background": "light"
     },
     "output_type": "display_data"
    }
   ],
   "source": [
    "sns.displot(df, x='Litrahinta', y='Alkoholi-%')\n",
    "sns.displot(df, x='Litrahinta', y='Alkoholi-%', hue=kmeans.labels_)"
   ]
  },
  {
   "cell_type": "code",
   "execution_count": 107,
   "metadata": {},
   "outputs": [
    {
     "name": "stderr",
     "output_type": "stream",
     "text": [
      "/Users/kukkojoo/opt/anaconda3/lib/python3.8/site-packages/seaborn/distributions.py:1077: UserWarning: Dataset has 0 variance; skipping density estimate.\n",
      "  warnings.warn(msg, UserWarning)\n",
      "/Users/kukkojoo/opt/anaconda3/lib/python3.8/site-packages/seaborn/distributions.py:1181: UserWarning: No contour levels were found within the data range.\n",
      "  cset = contour_func(\n"
     ]
    },
    {
     "data": {
      "text/plain": [
       "<seaborn.axisgrid.FacetGrid at 0x7fa5624824f0>"
      ]
     },
     "execution_count": 107,
     "metadata": {},
     "output_type": "execute_result"
    },
    {
     "data": {
      "image/png": "[encoded data removed]",
      "text/plain": [
       "<Figure size 402.375x360 with 1 Axes>"
      ]
     },
     "metadata": {
      "needs_background": "light"
     },
     "output_type": "display_data"
    }
   ],
   "source": [
    "sns.displot(df, x='Litrahinta', y='Alkoholi-%', kind='kde', hue=kmeans.labels_)"
   ]
  },
  {
   "cell_type": "code",
   "execution_count": 108,
   "metadata": {},
   "outputs": [],
   "source": [
    "df['Cluster'] = kmeans.labels_"
   ]
  },
  {
   "cell_type": "code",
   "execution_count": 109,
   "metadata": {},
   "outputs": [
    {
     "data": {
      "text/html": [
       "<div>\n",
       "<style scoped>\n",
       "    .dataframe tbody tr th:only-of-type {\n",
       "        vertical-align: middle;\n",
       "    }\n",
       "\n",
       "    .dataframe tbody tr th {\n",
       "        vertical-align: top;\n",
       "    }\n",
       "\n",
       "    .dataframe thead th {\n",
       "        text-align: right;\n",
       "    }\n",
       "</style>\n",
       "<table border=\"1\" class=\"dataframe\">\n",
       "  <thead>\n",
       "    <tr style=\"text-align: right;\">\n",
       "      <th></th>\n",
       "      <th>Numero</th>\n",
       "      <th>Nimi</th>\n",
       "      <th>Valmistaja</th>\n",
       "      <th>Pullokoko</th>\n",
       "      <th>Hinta</th>\n",
       "      <th>Litrahinta</th>\n",
       "      <th>Uutuus</th>\n",
       "      <th>Hinnastojärjestyskoodi</th>\n",
       "      <th>Tyyppi</th>\n",
       "      <th>Alatyyppi</th>\n",
       "      <th>...</th>\n",
       "      <th>Alkoholi-%</th>\n",
       "      <th>Hapot g/l</th>\n",
       "      <th>Sokeri g/l</th>\n",
       "      <th>Kantavierrep-%</th>\n",
       "      <th>Väri EBC</th>\n",
       "      <th>Katkerot EBU</th>\n",
       "      <th>Energia kcal/100 ml</th>\n",
       "      <th>Valikoima</th>\n",
       "      <th>EAN</th>\n",
       "      <th>Cluster</th>\n",
       "    </tr>\n",
       "  </thead>\n",
       "  <tbody>\n",
       "    <tr>\n",
       "      <th>6264</th>\n",
       "      <td>718897</td>\n",
       "      <td>Maxwell Honey Mead</td>\n",
       "      <td>Maxwell Wines</td>\n",
       "      <td>0,75 l</td>\n",
       "      <td>18.04</td>\n",
       "      <td>23.92</td>\n",
       "      <td>NaN</td>\n",
       "      <td>600</td>\n",
       "      <td>oluet</td>\n",
       "      <td>Erikoisuus</td>\n",
       "      <td>...</td>\n",
       "      <td>12.5</td>\n",
       "      <td>NaN</td>\n",
       "      <td>NaN</td>\n",
       "      <td>26.6</td>\n",
       "      <td>NaN</td>\n",
       "      <td>NaN</td>\n",
       "      <td>100.0</td>\n",
       "      <td>vakiovalikoima</td>\n",
       "      <td>9317705000107</td>\n",
       "      <td>7</td>\n",
       "    </tr>\n",
       "    <tr>\n",
       "      <th>6265</th>\n",
       "      <td>715894</td>\n",
       "      <td>Achel Blond</td>\n",
       "      <td>De Achelse Kluis</td>\n",
       "      <td>0,33 l</td>\n",
       "      <td>5.01</td>\n",
       "      <td>15.18</td>\n",
       "      <td>NaN</td>\n",
       "      <td>600</td>\n",
       "      <td>oluet</td>\n",
       "      <td>Erikoisuus</td>\n",
       "      <td>...</td>\n",
       "      <td>8.0</td>\n",
       "      <td>NaN</td>\n",
       "      <td>NaN</td>\n",
       "      <td>17.8</td>\n",
       "      <td>15.9</td>\n",
       "      <td>23.0</td>\n",
       "      <td>70.0</td>\n",
       "      <td>vakiovalikoima</td>\n",
       "      <td>5425007658828</td>\n",
       "      <td>6</td>\n",
       "    </tr>\n",
       "    <tr>\n",
       "      <th>6266</th>\n",
       "      <td>758594</td>\n",
       "      <td>Achel Bruin</td>\n",
       "      <td>De Achelse Kluis</td>\n",
       "      <td>0,33 l</td>\n",
       "      <td>5.34</td>\n",
       "      <td>16.18</td>\n",
       "      <td>NaN</td>\n",
       "      <td>600</td>\n",
       "      <td>oluet</td>\n",
       "      <td>Erikoisuus</td>\n",
       "      <td>...</td>\n",
       "      <td>8.0</td>\n",
       "      <td>NaN</td>\n",
       "      <td>NaN</td>\n",
       "      <td>18.5</td>\n",
       "      <td>41.8</td>\n",
       "      <td>24.0</td>\n",
       "      <td>70.0</td>\n",
       "      <td>vakiovalikoima</td>\n",
       "      <td>5425007658880</td>\n",
       "      <td>3</td>\n",
       "    </tr>\n",
       "    <tr>\n",
       "      <th>6267</th>\n",
       "      <td>730097</td>\n",
       "      <td>Achel Extra Bruin</td>\n",
       "      <td>De Achelse Kluis</td>\n",
       "      <td>0,75 l</td>\n",
       "      <td>15.51</td>\n",
       "      <td>20.68</td>\n",
       "      <td>NaN</td>\n",
       "      <td>600</td>\n",
       "      <td>oluet</td>\n",
       "      <td>Erikoisuus</td>\n",
       "      <td>...</td>\n",
       "      <td>9.5</td>\n",
       "      <td>NaN</td>\n",
       "      <td>NaN</td>\n",
       "      <td>19.4</td>\n",
       "      <td>70.5</td>\n",
       "      <td>18.0</td>\n",
       "      <td>70.0</td>\n",
       "      <td>vakiovalikoima</td>\n",
       "      <td>5425007658859</td>\n",
       "      <td>7</td>\n",
       "    </tr>\n",
       "    <tr>\n",
       "      <th>6268</th>\n",
       "      <td>919855</td>\n",
       "      <td>Alvinne Phi Blond Sour Ale</td>\n",
       "      <td>Brouwerij Alvinne NV</td>\n",
       "      <td>0,33 l</td>\n",
       "      <td>5.42</td>\n",
       "      <td>16.42</td>\n",
       "      <td>NaN</td>\n",
       "      <td>600</td>\n",
       "      <td>oluet</td>\n",
       "      <td>Erikoisuus</td>\n",
       "      <td>...</td>\n",
       "      <td>8.0</td>\n",
       "      <td>NaN</td>\n",
       "      <td>NaN</td>\n",
       "      <td>17.6</td>\n",
       "      <td>NaN</td>\n",
       "      <td>7.0</td>\n",
       "      <td>70.0</td>\n",
       "      <td>tilausvalikoima</td>\n",
       "      <td>5425031890355</td>\n",
       "      <td>3</td>\n",
       "    </tr>\n",
       "    <tr>\n",
       "      <th>...</th>\n",
       "      <td>...</td>\n",
       "      <td>...</td>\n",
       "      <td>...</td>\n",
       "      <td>...</td>\n",
       "      <td>...</td>\n",
       "      <td>...</td>\n",
       "      <td>...</td>\n",
       "      <td>...</td>\n",
       "      <td>...</td>\n",
       "      <td>...</td>\n",
       "      <td>...</td>\n",
       "      <td>...</td>\n",
       "      <td>...</td>\n",
       "      <td>...</td>\n",
       "      <td>...</td>\n",
       "      <td>...</td>\n",
       "      <td>...</td>\n",
       "      <td>...</td>\n",
       "      <td>...</td>\n",
       "      <td>...</td>\n",
       "      <td>...</td>\n",
       "    </tr>\n",
       "    <tr>\n",
       "      <th>7415</th>\n",
       "      <td>911916</td>\n",
       "      <td>Stone Southern Charred 2015</td>\n",
       "      <td>Stone Brewing</td>\n",
       "      <td>0,5 l</td>\n",
       "      <td>22.63</td>\n",
       "      <td>45.26</td>\n",
       "      <td>NaN</td>\n",
       "      <td>600</td>\n",
       "      <td>oluet</td>\n",
       "      <td>Ale</td>\n",
       "      <td>...</td>\n",
       "      <td>12.7</td>\n",
       "      <td>NaN</td>\n",
       "      <td>NaN</td>\n",
       "      <td>26.5</td>\n",
       "      <td>84.5</td>\n",
       "      <td>55.0</td>\n",
       "      <td>100.0</td>\n",
       "      <td>tilausvalikoima</td>\n",
       "      <td>636251830341</td>\n",
       "      <td>5</td>\n",
       "    </tr>\n",
       "    <tr>\n",
       "      <th>7416</th>\n",
       "      <td>935551</td>\n",
       "      <td>Westbrook Mexican Cake Imperial Stout</td>\n",
       "      <td>Westbrook Brewing</td>\n",
       "      <td>0,65 l</td>\n",
       "      <td>26.56</td>\n",
       "      <td>40.86</td>\n",
       "      <td>NaN</td>\n",
       "      <td>600</td>\n",
       "      <td>oluet</td>\n",
       "      <td>Stout &amp; Porter</td>\n",
       "      <td>...</td>\n",
       "      <td>10.5</td>\n",
       "      <td>NaN</td>\n",
       "      <td>NaN</td>\n",
       "      <td>26.0</td>\n",
       "      <td>NaN</td>\n",
       "      <td>49.0</td>\n",
       "      <td>100.0</td>\n",
       "      <td>tilausvalikoima</td>\n",
       "      <td>856467003074</td>\n",
       "      <td>2</td>\n",
       "    </tr>\n",
       "    <tr>\n",
       "      <th>8202</th>\n",
       "      <td>906362</td>\n",
       "      <td>Oud Beersel Jasmine Flower Infused Lambic hana...</td>\n",
       "      <td>Oud Beersel</td>\n",
       "      <td>3,1 l</td>\n",
       "      <td>47.35</td>\n",
       "      <td>15.27</td>\n",
       "      <td>NaN</td>\n",
       "      <td>600</td>\n",
       "      <td>oluet</td>\n",
       "      <td>Erikoisuus</td>\n",
       "      <td>...</td>\n",
       "      <td>6.8</td>\n",
       "      <td>NaN</td>\n",
       "      <td>NaN</td>\n",
       "      <td>13.1</td>\n",
       "      <td>NaN</td>\n",
       "      <td>22.0</td>\n",
       "      <td>50.0</td>\n",
       "      <td>tilausvalikoima</td>\n",
       "      <td>5425018070893</td>\n",
       "      <td>6</td>\n",
       "    </tr>\n",
       "    <tr>\n",
       "      <th>8203</th>\n",
       "      <td>951272</td>\n",
       "      <td>Oud Beersel Rozenlambiek hanapakkaus</td>\n",
       "      <td>Oud Beersel</td>\n",
       "      <td>3,1 l</td>\n",
       "      <td>47.35</td>\n",
       "      <td>15.27</td>\n",
       "      <td>NaN</td>\n",
       "      <td>600</td>\n",
       "      <td>oluet</td>\n",
       "      <td>Rosee ja muut viinit</td>\n",
       "      <td>...</td>\n",
       "      <td>6.8</td>\n",
       "      <td>NaN</td>\n",
       "      <td>NaN</td>\n",
       "      <td>12.9</td>\n",
       "      <td>NaN</td>\n",
       "      <td>17.0</td>\n",
       "      <td>50.0</td>\n",
       "      <td>tilausvalikoima</td>\n",
       "      <td>5425018070626</td>\n",
       "      <td>6</td>\n",
       "    </tr>\n",
       "    <tr>\n",
       "      <th>8234</th>\n",
       "      <td>915304</td>\n",
       "      <td>Kullervo Tumma Ruissahti viinipussi</td>\n",
       "      <td>Olu Bryki Raum</td>\n",
       "      <td>1,3 l</td>\n",
       "      <td>26.69</td>\n",
       "      <td>20.53</td>\n",
       "      <td>NaN</td>\n",
       "      <td>600</td>\n",
       "      <td>oluet</td>\n",
       "      <td>Rosee ja muut viinit</td>\n",
       "      <td>...</td>\n",
       "      <td>7.5</td>\n",
       "      <td>NaN</td>\n",
       "      <td>NaN</td>\n",
       "      <td>19.0</td>\n",
       "      <td>NaN</td>\n",
       "      <td>NaN</td>\n",
       "      <td>70.0</td>\n",
       "      <td>tilausvalikoima</td>\n",
       "      <td>6429810262004</td>\n",
       "      <td>9</td>\n",
       "    </tr>\n",
       "  </tbody>\n",
       "</table>\n",
       "<p>1156 rows × 31 columns</p>\n",
       "</div>"
      ],
      "text/plain": [
       "      Numero                                               Nimi  \\\n",
       "6264  718897                                 Maxwell Honey Mead   \n",
       "6265  715894                                        Achel Blond   \n",
       "6266  758594                                        Achel Bruin   \n",
       "6267  730097                                  Achel Extra Bruin   \n",
       "6268  919855                         Alvinne Phi Blond Sour Ale   \n",
       "...      ...                                                ...   \n",
       "7415  911916                        Stone Southern Charred 2015   \n",
       "7416  935551              Westbrook Mexican Cake Imperial Stout   \n",
       "8202  906362  Oud Beersel Jasmine Flower Infused Lambic hana...   \n",
       "8203  951272               Oud Beersel Rozenlambiek hanapakkaus   \n",
       "8234  915304                Kullervo Tumma Ruissahti viinipussi   \n",
       "\n",
       "                Valmistaja Pullokoko  Hinta  Litrahinta Uutuus  \\\n",
       "6264         Maxwell Wines    0,75 l  18.04       23.92    NaN   \n",
       "6265      De Achelse Kluis    0,33 l   5.01       15.18    NaN   \n",
       "6266      De Achelse Kluis    0,33 l   5.34       16.18    NaN   \n",
       "6267      De Achelse Kluis    0,75 l  15.51       20.68    NaN   \n",
       "6268  Brouwerij Alvinne NV    0,33 l   5.42       16.42    NaN   \n",
       "...                    ...       ...    ...         ...    ...   \n",
       "7415         Stone Brewing     0,5 l  22.63       45.26    NaN   \n",
       "7416     Westbrook Brewing    0,65 l  26.56       40.86    NaN   \n",
       "8202           Oud Beersel     3,1 l  47.35       15.27    NaN   \n",
       "8203           Oud Beersel     3,1 l  47.35       15.27    NaN   \n",
       "8234        Olu Bryki Raum     1,3 l  26.69       20.53    NaN   \n",
       "\n",
       "     Hinnastojärjestyskoodi Tyyppi             Alatyyppi  ... Alkoholi-%  \\\n",
       "6264                    600  oluet            Erikoisuus  ...       12.5   \n",
       "6265                    600  oluet            Erikoisuus  ...        8.0   \n",
       "6266                    600  oluet            Erikoisuus  ...        8.0   \n",
       "6267                    600  oluet            Erikoisuus  ...        9.5   \n",
       "6268                    600  oluet            Erikoisuus  ...        8.0   \n",
       "...                     ...    ...                   ...  ...        ...   \n",
       "7415                    600  oluet                   Ale  ...       12.7   \n",
       "7416                    600  oluet        Stout & Porter  ...       10.5   \n",
       "8202                    600  oluet            Erikoisuus  ...        6.8   \n",
       "8203                    600  oluet  Rosee ja muut viinit  ...        6.8   \n",
       "8234                    600  oluet  Rosee ja muut viinit  ...        7.5   \n",
       "\n",
       "     Hapot g/l Sokeri g/l Kantavierrep-%  Väri EBC Katkerot EBU  \\\n",
       "6264       NaN        NaN           26.6       NaN          NaN   \n",
       "6265       NaN        NaN           17.8      15.9         23.0   \n",
       "6266       NaN        NaN           18.5      41.8         24.0   \n",
       "6267       NaN        NaN           19.4      70.5         18.0   \n",
       "6268       NaN        NaN           17.6       NaN          7.0   \n",
       "...        ...        ...            ...       ...          ...   \n",
       "7415       NaN        NaN           26.5      84.5         55.0   \n",
       "7416       NaN        NaN           26.0       NaN         49.0   \n",
       "8202       NaN        NaN           13.1       NaN         22.0   \n",
       "8203       NaN        NaN           12.9       NaN         17.0   \n",
       "8234       NaN        NaN           19.0       NaN          NaN   \n",
       "\n",
       "     Energia kcal/100 ml        Valikoima            EAN Cluster  \n",
       "6264               100.0   vakiovalikoima  9317705000107       7  \n",
       "6265                70.0   vakiovalikoima  5425007658828       6  \n",
       "6266                70.0   vakiovalikoima  5425007658880       3  \n",
       "6267                70.0   vakiovalikoima  5425007658859       7  \n",
       "6268                70.0  tilausvalikoima  5425031890355       3  \n",
       "...                  ...              ...            ...     ...  \n",
       "7415               100.0  tilausvalikoima   636251830341       5  \n",
       "7416               100.0  tilausvalikoima   856467003074       2  \n",
       "8202                50.0  tilausvalikoima  5425018070893       6  \n",
       "8203                50.0  tilausvalikoima  5425018070626       6  \n",
       "8234                70.0  tilausvalikoima  6429810262004       9  \n",
       "\n",
       "[1156 rows x 31 columns]"
      ]
     },
     "execution_count": 109,
     "metadata": {},
     "output_type": "execute_result"
    }
   ],
   "source": [
    "df"
   ]
  },
  {
   "cell_type": "code",
   "execution_count": 122,
   "metadata": {},
   "outputs": [
    {
     "data": {
      "text/html": [
       "<div>\n",
       "<style scoped>\n",
       "    .dataframe tbody tr th:only-of-type {\n",
       "        vertical-align: middle;\n",
       "    }\n",
       "\n",
       "    .dataframe tbody tr th {\n",
       "        vertical-align: top;\n",
       "    }\n",
       "\n",
       "    .dataframe thead th {\n",
       "        text-align: right;\n",
       "    }\n",
       "</style>\n",
       "<table border=\"1\" class=\"dataframe\">\n",
       "  <thead>\n",
       "    <tr style=\"text-align: right;\">\n",
       "      <th></th>\n",
       "      <th>count_of_products</th>\n",
       "      <th>mean_price</th>\n",
       "      <th>median_price</th>\n",
       "      <th>mean_litre_price</th>\n",
       "      <th>median_litre_price</th>\n",
       "      <th>mean_alcohol_percentage</th>\n",
       "    </tr>\n",
       "    <tr>\n",
       "      <th>Cluster</th>\n",
       "      <th></th>\n",
       "      <th></th>\n",
       "      <th></th>\n",
       "      <th></th>\n",
       "      <th></th>\n",
       "      <th></th>\n",
       "    </tr>\n",
       "  </thead>\n",
       "  <tbody>\n",
       "    <tr>\n",
       "      <th>6</th>\n",
       "      <td>263</td>\n",
       "      <td>5.637110</td>\n",
       "      <td>4.950</td>\n",
       "      <td>14.467795</td>\n",
       "      <td>14.520</td>\n",
       "      <td>6.520152</td>\n",
       "    </tr>\n",
       "    <tr>\n",
       "      <th>4</th>\n",
       "      <td>249</td>\n",
       "      <td>5.470321</td>\n",
       "      <td>3.690</td>\n",
       "      <td>7.283976</td>\n",
       "      <td>7.520</td>\n",
       "      <td>5.388353</td>\n",
       "    </tr>\n",
       "    <tr>\n",
       "      <th>0</th>\n",
       "      <td>229</td>\n",
       "      <td>6.045590</td>\n",
       "      <td>3.990</td>\n",
       "      <td>11.124629</td>\n",
       "      <td>11.320</td>\n",
       "      <td>5.809170</td>\n",
       "    </tr>\n",
       "    <tr>\n",
       "      <th>3</th>\n",
       "      <td>148</td>\n",
       "      <td>6.820473</td>\n",
       "      <td>6.045</td>\n",
       "      <td>17.809730</td>\n",
       "      <td>17.975</td>\n",
       "      <td>8.166216</td>\n",
       "    </tr>\n",
       "    <tr>\n",
       "      <th>9</th>\n",
       "      <td>88</td>\n",
       "      <td>9.932727</td>\n",
       "      <td>8.975</td>\n",
       "      <td>21.774432</td>\n",
       "      <td>21.535</td>\n",
       "      <td>7.044318</td>\n",
       "    </tr>\n",
       "    <tr>\n",
       "      <th>7</th>\n",
       "      <td>75</td>\n",
       "      <td>8.724800</td>\n",
       "      <td>7.850</td>\n",
       "      <td>22.353733</td>\n",
       "      <td>22.480</td>\n",
       "      <td>10.682667</td>\n",
       "    </tr>\n",
       "    <tr>\n",
       "      <th>1</th>\n",
       "      <td>54</td>\n",
       "      <td>14.078148</td>\n",
       "      <td>10.960</td>\n",
       "      <td>28.807037</td>\n",
       "      <td>27.905</td>\n",
       "      <td>9.909259</td>\n",
       "    </tr>\n",
       "    <tr>\n",
       "      <th>2</th>\n",
       "      <td>34</td>\n",
       "      <td>16.728529</td>\n",
       "      <td>14.020</td>\n",
       "      <td>38.080294</td>\n",
       "      <td>37.800</td>\n",
       "      <td>10.988235</td>\n",
       "    </tr>\n",
       "    <tr>\n",
       "      <th>5</th>\n",
       "      <td>15</td>\n",
       "      <td>23.508000</td>\n",
       "      <td>18.990</td>\n",
       "      <td>50.695333</td>\n",
       "      <td>50.590</td>\n",
       "      <td>12.673333</td>\n",
       "    </tr>\n",
       "    <tr>\n",
       "      <th>8</th>\n",
       "      <td>1</td>\n",
       "      <td>44.880000</td>\n",
       "      <td>44.880</td>\n",
       "      <td>94.880000</td>\n",
       "      <td>94.880</td>\n",
       "      <td>18.400000</td>\n",
       "    </tr>\n",
       "  </tbody>\n",
       "</table>\n",
       "</div>"
      ],
      "text/plain": [
       "         count_of_products  mean_price  median_price  mean_litre_price  \\\n",
       "Cluster                                                                  \n",
       "6                      263    5.637110         4.950         14.467795   \n",
       "4                      249    5.470321         3.690          7.283976   \n",
       "0                      229    6.045590         3.990         11.124629   \n",
       "3                      148    6.820473         6.045         17.809730   \n",
       "9                       88    9.932727         8.975         21.774432   \n",
       "7                       75    8.724800         7.850         22.353733   \n",
       "1                       54   14.078148        10.960         28.807037   \n",
       "2                       34   16.728529        14.020         38.080294   \n",
       "5                       15   23.508000        18.990         50.695333   \n",
       "8                        1   44.880000        44.880         94.880000   \n",
       "\n",
       "         median_litre_price  mean_alcohol_percentage  \n",
       "Cluster                                               \n",
       "6                    14.520                 6.520152  \n",
       "4                     7.520                 5.388353  \n",
       "0                    11.320                 5.809170  \n",
       "3                    17.975                 8.166216  \n",
       "9                    21.535                 7.044318  \n",
       "7                    22.480                10.682667  \n",
       "1                    27.905                 9.909259  \n",
       "2                    37.800                10.988235  \n",
       "5                    50.590                12.673333  \n",
       "8                    94.880                18.400000  "
      ]
     },
     "metadata": {},
     "output_type": "display_data"
    },
    {
     "data": {
      "image/png": "[encoded data removed]",
      "text/plain": [
       "<Figure size 432x288 with 1 Axes>"
      ]
     },
     "metadata": {
      "needs_background": "light"
     },
     "output_type": "display_data"
    }
   ],
   "source": [
    "df_cluster = df.groupby(['Cluster']).agg(\n",
    "    count_of_products = ('Numero', 'count'),\n",
    "    mean_price = ('Hinta', 'mean'),\n",
    "    median_price = ('Hinta', 'median'),\n",
    "    mean_litre_price = ('Litrahinta', 'mean'),\n",
    "    median_litre_price = ('Litrahinta', 'median'),\n",
    "    mean_alcohol_percentage = ('Alkoholi-%', 'mean')\n",
    ").sort_values(by='count_of_products',ascending=False)\n",
    "display(df_cluster.head(10))\n",
    "plt.scatter('mean_litre_price', 'mean_alcohol_percentage', s='count_of_products', data=df_cluster)\n",
    "plt.xlim(0)\n",
    "plt.ylim(0)\n",
    "plt.show()"
   ]
  },
  {
   "cell_type": "code",
   "execution_count": 125,
   "metadata": {},
   "outputs": [
    {
     "data": {
      "text/plain": [
       "[(0.0, 50.0)]"
      ]
     },
     "execution_count": 125,
     "metadata": {},
     "output_type": "execute_result"
    },
    {
     "data": {
      "image/png": "[encoded data removed]",
      "text/plain": [
       "<Figure size 432x288 with 1 Axes>"
      ]
     },
     "metadata": {
      "needs_background": "light"
     },
     "output_type": "display_data"
    }
   ],
   "source": [
    "p = sns.boxplot(x=\"Cluster\", y=\"Hinta\", data=df)\n",
    "p.set(ylim=(0, 50))"
   ]
  },
  {
   "cell_type": "code",
   "execution_count": 127,
   "metadata": {},
   "outputs": [
    {
     "data": {
      "text/plain": [
       "[(0.0, 19.27)]"
      ]
     },
     "execution_count": 127,
     "metadata": {},
     "output_type": "execute_result"
    },
    {
     "data": {
      "image/png": "[encoded data removed]",
      "text/plain": [
       "<Figure size 432x288 with 1 Axes>"
      ]
     },
     "metadata": {
      "needs_background": "light"
     },
     "output_type": "display_data"
    }
   ],
   "source": [
    "p = sns.boxplot(x=\"Cluster\", y=\"Alkoholi-%\", data=df)\n",
    "p.set(ylim=(0, None))"
   ]
  },
  {
   "cell_type": "code",
   "execution_count": null,
   "metadata": {},
   "outputs": [],
   "source": []
  }
 ],
 "metadata": {
  "kernelspec": {
   "display_name": "Python 3",
   "language": "python",
   "name": "python3"
  },
  "language_info": {
   "codemirror_mode": {
    "name": "ipython",
    "version": 3
   },
   "file_extension": ".py",
   "mimetype": "text/x-python",
   "name": "python",
   "nbconvert_exporter": "python",
   "pygments_lexer": "ipython3",
   "version": "3.8.5"
  }
 },
 "nbformat": 4,
 "nbformat_minor": 4
}

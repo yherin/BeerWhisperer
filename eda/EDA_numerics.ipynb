{
 "cells": [
  {
   "cell_type": "code",
   "execution_count": 1,
   "id": "c0d6ccd0-7953-4897-a803-a62a7e496726",
   "metadata": {},
   "outputs": [],
   "source": [
    "import pandas as pd\n",
    "import json\n",
    "import seaborn as sns"
   ]
  },
  {
   "cell_type": "code",
   "execution_count": 7,
   "id": "b9d802aa-4c14-44fc-bd50-ffac9c100505",
   "metadata": {},
   "outputs": [],
   "source": [
    "df = pd.read_csv('../data/alkon-hinnasto-tekstitiedostona.csv', header=2)"
   ]
  },
  {
   "cell_type": "code",
   "execution_count": 9,
   "id": "d148db78-8475-4587-b8f5-30cdfc3fe16c",
   "metadata": {},
   "outputs": [],
   "source": [
    "beerdf = df[df['Tyyppi'] == 'oluet']"
   ]
  },
  {
   "cell_type": "code",
   "execution_count": 10,
   "id": "2d1ec105-ed60-4634-8363-99e136fe6961",
   "metadata": {},
   "outputs": [
    {
     "data": {
      "text/html": [
       "<div>\n",
       "<style scoped>\n",
       "    .dataframe tbody tr th:only-of-type {\n",
       "        vertical-align: middle;\n",
       "    }\n",
       "\n",
       "    .dataframe tbody tr th {\n",
       "        vertical-align: top;\n",
       "    }\n",
       "\n",
       "    .dataframe thead th {\n",
       "        text-align: right;\n",
       "    }\n",
       "</style>\n",
       "<table border=\"1\" class=\"dataframe\">\n",
       "  <thead>\n",
       "    <tr style=\"text-align: right;\">\n",
       "      <th></th>\n",
       "      <th>Numero</th>\n",
       "      <th>Nimi</th>\n",
       "      <th>Valmistaja</th>\n",
       "      <th>Pullokoko</th>\n",
       "      <th>Hinta</th>\n",
       "      <th>Litrahinta</th>\n",
       "      <th>Uutuus</th>\n",
       "      <th>Hinnastojärjestyskoodi</th>\n",
       "      <th>Tyyppi</th>\n",
       "      <th>Alatyyppi</th>\n",
       "      <th>...</th>\n",
       "      <th>Suljentatyyppi</th>\n",
       "      <th>Alkoholi-%</th>\n",
       "      <th>Hapot g/l</th>\n",
       "      <th>Sokeri g/l</th>\n",
       "      <th>Kantavierrep-%</th>\n",
       "      <th>Väri EBC</th>\n",
       "      <th>Katkerot EBU</th>\n",
       "      <th>Energia kcal/100 ml</th>\n",
       "      <th>Valikoima</th>\n",
       "      <th>EAN</th>\n",
       "    </tr>\n",
       "  </thead>\n",
       "  <tbody>\n",
       "    <tr>\n",
       "      <th>6264</th>\n",
       "      <td>718897</td>\n",
       "      <td>Maxwell Honey Mead</td>\n",
       "      <td>Maxwell Wines</td>\n",
       "      <td>0,75 l</td>\n",
       "      <td>18.04</td>\n",
       "      <td>23.92</td>\n",
       "      <td>NaN</td>\n",
       "      <td>600</td>\n",
       "      <td>oluet</td>\n",
       "      <td>Erikoisuus</td>\n",
       "      <td>...</td>\n",
       "      <td>metallinen kierrekapseli</td>\n",
       "      <td>12.5</td>\n",
       "      <td>NaN</td>\n",
       "      <td>NaN</td>\n",
       "      <td>26.6</td>\n",
       "      <td>NaN</td>\n",
       "      <td>NaN</td>\n",
       "      <td>100.0</td>\n",
       "      <td>vakiovalikoima</td>\n",
       "      <td>9317705000107</td>\n",
       "    </tr>\n",
       "    <tr>\n",
       "      <th>6265</th>\n",
       "      <td>715894</td>\n",
       "      <td>Achel Blond</td>\n",
       "      <td>De Achelse Kluis</td>\n",
       "      <td>0,33 l</td>\n",
       "      <td>5.01</td>\n",
       "      <td>15.18</td>\n",
       "      <td>NaN</td>\n",
       "      <td>600</td>\n",
       "      <td>oluet</td>\n",
       "      <td>Erikoisuus</td>\n",
       "      <td>...</td>\n",
       "      <td>kruunukorkki</td>\n",
       "      <td>8.0</td>\n",
       "      <td>NaN</td>\n",
       "      <td>NaN</td>\n",
       "      <td>17.8</td>\n",
       "      <td>15.9</td>\n",
       "      <td>23.0</td>\n",
       "      <td>70.0</td>\n",
       "      <td>vakiovalikoima</td>\n",
       "      <td>5425007658828</td>\n",
       "    </tr>\n",
       "    <tr>\n",
       "      <th>6266</th>\n",
       "      <td>758594</td>\n",
       "      <td>Achel Bruin</td>\n",
       "      <td>De Achelse Kluis</td>\n",
       "      <td>0,33 l</td>\n",
       "      <td>5.34</td>\n",
       "      <td>16.18</td>\n",
       "      <td>NaN</td>\n",
       "      <td>600</td>\n",
       "      <td>oluet</td>\n",
       "      <td>Erikoisuus</td>\n",
       "      <td>...</td>\n",
       "      <td>kruunukorkki</td>\n",
       "      <td>8.0</td>\n",
       "      <td>NaN</td>\n",
       "      <td>NaN</td>\n",
       "      <td>18.5</td>\n",
       "      <td>41.8</td>\n",
       "      <td>24.0</td>\n",
       "      <td>70.0</td>\n",
       "      <td>vakiovalikoima</td>\n",
       "      <td>5425007658880</td>\n",
       "    </tr>\n",
       "    <tr>\n",
       "      <th>6267</th>\n",
       "      <td>730097</td>\n",
       "      <td>Achel Extra Bruin</td>\n",
       "      <td>De Achelse Kluis</td>\n",
       "      <td>0,75 l</td>\n",
       "      <td>15.51</td>\n",
       "      <td>20.68</td>\n",
       "      <td>NaN</td>\n",
       "      <td>600</td>\n",
       "      <td>oluet</td>\n",
       "      <td>Erikoisuus</td>\n",
       "      <td>...</td>\n",
       "      <td>kruunukorkki</td>\n",
       "      <td>9.5</td>\n",
       "      <td>NaN</td>\n",
       "      <td>NaN</td>\n",
       "      <td>19.4</td>\n",
       "      <td>70.5</td>\n",
       "      <td>18.0</td>\n",
       "      <td>70.0</td>\n",
       "      <td>vakiovalikoima</td>\n",
       "      <td>5425007658859</td>\n",
       "    </tr>\n",
       "    <tr>\n",
       "      <th>6268</th>\n",
       "      <td>919855</td>\n",
       "      <td>Alvinne Phi Blond Sour Ale</td>\n",
       "      <td>Brouwerij Alvinne NV</td>\n",
       "      <td>0,33 l</td>\n",
       "      <td>5.42</td>\n",
       "      <td>16.42</td>\n",
       "      <td>NaN</td>\n",
       "      <td>600</td>\n",
       "      <td>oluet</td>\n",
       "      <td>Erikoisuus</td>\n",
       "      <td>...</td>\n",
       "      <td>kruunukorkki</td>\n",
       "      <td>8.0</td>\n",
       "      <td>NaN</td>\n",
       "      <td>NaN</td>\n",
       "      <td>17.6</td>\n",
       "      <td>NaN</td>\n",
       "      <td>7.0</td>\n",
       "      <td>70.0</td>\n",
       "      <td>tilausvalikoima</td>\n",
       "      <td>5425031890355</td>\n",
       "    </tr>\n",
       "  </tbody>\n",
       "</table>\n",
       "<p>5 rows × 30 columns</p>\n",
       "</div>"
      ],
      "text/plain": [
       "      Numero                        Nimi            Valmistaja Pullokoko  \\\n",
       "6264  718897          Maxwell Honey Mead         Maxwell Wines    0,75 l   \n",
       "6265  715894                 Achel Blond      De Achelse Kluis    0,33 l   \n",
       "6266  758594                 Achel Bruin      De Achelse Kluis    0,33 l   \n",
       "6267  730097           Achel Extra Bruin      De Achelse Kluis    0,75 l   \n",
       "6268  919855  Alvinne Phi Blond Sour Ale  Brouwerij Alvinne NV    0,33 l   \n",
       "\n",
       "      Hinta  Litrahinta Uutuus Hinnastojärjestyskoodi Tyyppi   Alatyyppi  ...  \\\n",
       "6264  18.04       23.92    NaN                    600  oluet  Erikoisuus  ...   \n",
       "6265   5.01       15.18    NaN                    600  oluet  Erikoisuus  ...   \n",
       "6266   5.34       16.18    NaN                    600  oluet  Erikoisuus  ...   \n",
       "6267  15.51       20.68    NaN                    600  oluet  Erikoisuus  ...   \n",
       "6268   5.42       16.42    NaN                    600  oluet  Erikoisuus  ...   \n",
       "\n",
       "                Suljentatyyppi Alkoholi-% Hapot g/l Sokeri g/l  \\\n",
       "6264  metallinen kierrekapseli       12.5       NaN        NaN   \n",
       "6265              kruunukorkki        8.0       NaN        NaN   \n",
       "6266              kruunukorkki        8.0       NaN        NaN   \n",
       "6267              kruunukorkki        9.5       NaN        NaN   \n",
       "6268              kruunukorkki        8.0       NaN        NaN   \n",
       "\n",
       "      Kantavierrep-% Väri EBC Katkerot EBU Energia kcal/100 ml  \\\n",
       "6264            26.6      NaN          NaN               100.0   \n",
       "6265            17.8     15.9         23.0                70.0   \n",
       "6266            18.5     41.8         24.0                70.0   \n",
       "6267            19.4     70.5         18.0                70.0   \n",
       "6268            17.6      NaN          7.0                70.0   \n",
       "\n",
       "            Valikoima            EAN  \n",
       "6264   vakiovalikoima  9317705000107  \n",
       "6265   vakiovalikoima  5425007658828  \n",
       "6266   vakiovalikoima  5425007658880  \n",
       "6267   vakiovalikoima  5425007658859  \n",
       "6268  tilausvalikoima  5425031890355  \n",
       "\n",
       "[5 rows x 30 columns]"
      ]
     },
     "execution_count": 10,
     "metadata": {},
     "output_type": "execute_result"
    }
   ],
   "source": [
    "beerdf.head()"
   ]
  },
  {
   "cell_type": "code",
   "execution_count": 15,
   "id": "48a808f7-ef9b-41ea-929c-1cf72bd08ad5",
   "metadata": {},
   "outputs": [
    {
     "data": {
      "text/plain": [
       "<AxesSubplot:>"
      ]
     },
     "execution_count": 15,
     "metadata": {},
     "output_type": "execute_result"
    },
    {
     "data": {
      "image/png": "[encoded data removed]",
      "text/plain": [
       "<Figure size 432x288 with 1 Axes>"
      ]
     },
     "metadata": {
      "needs_background": "light"
     },
     "output_type": "display_data"
    }
   ],
   "source": [
    "beerdf['Alkoholi-%'].hist(bins=50)"
   ]
  },
  {
   "cell_type": "code",
   "execution_count": 16,
   "id": "36c4633b-0e21-441a-998a-5b15a472ef16",
   "metadata": {},
   "outputs": [
    {
     "data": {
      "text/plain": [
       "<AxesSubplot:>"
      ]
     },
     "execution_count": 16,
     "metadata": {},
     "output_type": "execute_result"
    },
    {
     "data": {
      "image/png": "[encoded data removed]",
      "text/plain": [
       "<Figure size 432x288 with 1 Axes>"
      ]
     },
     "metadata": {
      "needs_background": "light"
     },
     "output_type": "display_data"
    }
   ],
   "source": [
    "beerdf['Kantavierrep-%'].hist(bins=50)"
   ]
  },
  {
   "cell_type": "code",
   "execution_count": 38,
   "id": "2f8621d0-035c-467f-b121-4ea4a11b822d",
   "metadata": {},
   "outputs": [
    {
     "data": {
      "text/plain": [
       "<AxesSubplot:>"
      ]
     },
     "execution_count": 38,
     "metadata": {},
     "output_type": "execute_result"
    },
    {
     "data": {
      "image/png": "[encoded data removed]",
      "text/plain": [
       "<Figure size 432x288 with 1 Axes>"
      ]
     },
     "metadata": {
      "needs_background": "light"
     },
     "output_type": "display_data"
    }
   ],
   "source": [
    "beerdf['Energia kcal/100 ml'].hist(bins=25)"
   ]
  },
  {
   "cell_type": "code",
   "execution_count": 34,
   "id": "ea045329-de27-4d53-ad7b-3f05c7f8cf76",
   "metadata": {},
   "outputs": [
    {
     "data": {
      "text/plain": [
       "<AxesSubplot:>"
      ]
     },
     "execution_count": 34,
     "metadata": {},
     "output_type": "execute_result"
    },
    {
     "data": {
      "image/png": "[encoded data removed]",
      "text/plain": [
       "<Figure size 432x288 with 1 Axes>"
      ]
     },
     "metadata": {
      "needs_background": "light"
     },
     "output_type": "display_data"
    }
   ],
   "source": [
    "beerdf['Katkerot EBU'].hist(bins=50)"
   ]
  },
  {
   "cell_type": "code",
   "execution_count": 36,
   "id": "e2211598-e72f-4bbc-9954-9aa6ada496cf",
   "metadata": {},
   "outputs": [
    {
     "data": {
      "text/plain": [
       "<AxesSubplot:>"
      ]
     },
     "execution_count": 36,
     "metadata": {},
     "output_type": "execute_result"
    },
    {
     "data": {
      "image/png": "[encoded data removed]",
      "text/plain": [
       "<Figure size 432x288 with 1 Axes>"
      ]
     },
     "metadata": {
      "needs_background": "light"
     },
     "output_type": "display_data"
    }
   ],
   "source": [
    "beerdf['Litrahinta'].hist(bins=50)"
   ]
  },
  {
   "cell_type": "code",
   "execution_count": 37,
   "id": "07cea68d-24a6-4583-ae42-732d9c76704e",
   "metadata": {},
   "outputs": [
    {
     "data": {
      "text/plain": [
       "<AxesSubplot:>"
      ]
     },
     "execution_count": 37,
     "metadata": {},
     "output_type": "execute_result"
    },
    {
     "data": {
      "image/png": "[encoded data removed]",
      "text/plain": [
       "<Figure size 432x288 with 1 Axes>"
      ]
     },
     "metadata": {
      "needs_background": "light"
     },
     "output_type": "display_data"
    }
   ],
   "source": [
    "beerdf['Väri EBC'].hist(bins=50)"
   ]
  },
  {
   "cell_type": "code",
   "execution_count": null,
   "id": "7c7e06e0-86e0-4ea2-8b5d-98f6d9694831",
   "metadata": {},
   "outputs": [],
   "source": []
  }
 ],
 "metadata": {
  "kernelspec": {
   "display_name": "Python 3 (ipykernel)",
   "language": "python",
   "name": "python3"
  },
  "language_info": {
   "codemirror_mode": {
    "name": "ipython",
    "version": 3
   },
   "file_extension": ".py",
   "mimetype": "text/x-python",
   "name": "python",
   "nbconvert_exporter": "python",
   "pygments_lexer": "ipython3",
   "version": "3.9.6"
  }
 },
 "nbformat": 4,
 "nbformat_minor": 5
}
